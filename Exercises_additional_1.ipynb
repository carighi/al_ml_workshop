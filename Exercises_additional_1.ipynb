{
  "nbformat": 4,
  "nbformat_minor": 0,
  "metadata": {
    "colab": {
      "provenance": [],
      "authorship_tag": "ABX9TyOUwsZnFR5h/QNzwH6IYu6t",
      "include_colab_link": true
    },
    "kernelspec": {
      "name": "python3",
      "display_name": "Python 3"
    },
    "language_info": {
      "name": "python"
    }
  },
  "cells": [
    {
      "cell_type": "markdown",
      "metadata": {
        "id": "view-in-github",
        "colab_type": "text"
      },
      "source": [
        "<a href=\"https://colab.research.google.com/github/carighi/al_ml_workshop/blob/main/Exercises_additional_1.ipynb\" target=\"_parent\"><img src=\"https://colab.research.google.com/assets/colab-badge.svg\" alt=\"Open In Colab\"/></a>"
      ]
    },
    {
      "cell_type": "markdown",
      "source": [
        "We will look into images as data types. [Imageio](https://imageio.readthedocs.io/en/stable/) is a library package for image analysis. We will use it here to upload a medical image and do some operations. We will also upload matplotlib for visualization. Run the exercises and then answer the question in the module assignment. We will work with  https://wiki.cancerimagingarchive.net/pages/viewpage.action?pageId=6881474 \n",
        "The source of exercise is a variation of:\n",
        "https://www.kaggle.com/code/gpreda/visualize-ct-dicom-data/notebook\n",
        "\n"
      ],
      "metadata": {
        "id": "Bdj8OHL2FHq9"
      }
    },
    {
      "cell_type": "code",
      "source": [
        "#run this to make sure you have all the different library packages uploaded\n",
        "IS_LOCAL = False\n",
        "import numpy as np\n",
        "import pandas as pd\n",
        "from skimage.io import imread\n",
        "import seaborn as sns\n",
        "import matplotlib.pyplot as plt\n",
        "from glob import glob\n",
        "if(IS_LOCAL):\n",
        "    import pydicom as dicom\n",
        "else:\n",
        "    !pip install dicom\n",
        "    import dicom\n",
        "import os"
      ],
      "metadata": {
        "id": "SjGZQSQhwsnc"
      },
      "execution_count": null,
      "outputs": []
    },
    {
      "cell_type": "markdown",
      "source": [
        "The files for this exercise can be found in the github\n",
        "https://github.com/carighi/al_ml_workshop/tree/main/Additional_exercises/CT_medical_images\n",
        "There is a file called overview.csv which contains metadata about the dataset. There is also a directory called dicom.dir with the CT images."
      ],
      "metadata": {
        "id": "wPd1PjbKWfG4"
      }
    },
    {
      "cell_type": "code",
      "source": [
        "#Let's read the csv file\n",
        "data_df = pd.read_csv(\"https://raw.githubusercontent.com/carighi/al_ml_workshop/main/Additional_exercises/CT_medical_images/overview.csv\")"
      ],
      "metadata": {
        "id": "45x8MEL93YO3"
      },
      "execution_count": null,
      "outputs": []
    },
    {
      "cell_type": "code",
      "source": [
        "#Q1\n",
        "#Let's find out how many rows and columns it has. Indicate which operation you would use from panda to do that. Replace <your input> with correct instruction and remove hash to run it.\n",
        "#print(\"CT Medical images -  rows:\",data_df.<your input>[0],\" columns:\", data_df.<your input>[1])\n"
      ],
      "metadata": {
        "id": "LoJK0E9v36XK"
      },
      "execution_count": null,
      "outputs": []
    },
    {
      "cell_type": "code",
      "source": [
        "#Q2\n",
        "#Now print the first 10 rows from the file. Replace <your input> with correct instruction and remove hash to run it.\n",
        "#data_df.<your input>(<your input>)"
      ],
      "metadata": {
        "id": "lxjHqNNk4TGO"
      },
      "execution_count": null,
      "outputs": []
    },
    {
      "cell_type": "code",
      "source": [
        "#Q3\n",
        "#Run code below and explain what does this code do.\n",
        "data_df1=data_df[data_df.iloc[:,3]=='NONE']\n",
        "data_df1"
      ],
      "metadata": {
        "id": "cZJ8URoI4Xxq"
      },
      "execution_count": null,
      "outputs": []
    },
    {
      "cell_type": "code",
      "source": [
        "#Q4\n",
        "#get dimension of data_df1 table\n",
        "#data_df1.<your input>"
      ],
      "metadata": {
        "id": "7inZ3Sz49Chi"
      },
      "execution_count": null,
      "outputs": []
    },
    {
      "cell_type": "code",
      "source": [
        "#Q5\n",
        "#let's remove the rows with any missing values from our original table data, and display dimensions\n",
        "#data_df2=<your input>.dropna(how=\"any\")\n",
        "#data_df2.<your input>"
      ],
      "metadata": {
        "id": "J0qIOvcN9rO6"
      },
      "execution_count": null,
      "outputs": []
    },
    {
      "cell_type": "code",
      "source": [
        "#We saw that when printing 10 first rows of data_df, there were missing values (NaN) in Contrast tag column.\n",
        "#Now print the first ten rows of your new table data_df2. Do you see any missing value?\n",
        "#<your code>"
      ],
      "metadata": {
        "id": "91vI1E7K-URq"
      },
      "execution_count": null,
      "outputs": []
    },
    {
      "cell_type": "code",
      "source": [
        "#let's read an image from the table, for example ID_0000_AGE_0060_CONTRAST_1_CT.dcm. Do not worry about any deprecation warning when running this command. To read image, we use imageio. \n",
        "import imageio\n",
        "image = imageio.imread(\"https://raw.githubusercontent.com/carighi/al_ml_workshop/main/Additional_exercises/CT_medical_images/dicom_dir/ID_0000_AGE_0060_CONTRAST_1_CT.dcm\")"
      ],
      "metadata": {
        "id": "H-Usa5IGipbm"
      },
      "execution_count": null,
      "outputs": []
    },
    {
      "cell_type": "code",
      "source": [
        "#Q6\n",
        "#let's read an image from the table, for example ID_0000_AGE_0060_CONTRAST_1_CT.dcm. Do not worry about any deprecation warning when running this command. To read image, we use imageio. \n",
        "#getting the needed libraries\n",
        "\n",
        "import imageio\n",
        "\n",
        "\n",
        "#lets read an image file\n",
        "image = imageio.imread(\"https://raw.githubusercontent.com/carighi/al_ml_workshop/main/Additional_exercises/CT_medical_images/dicom_dir/ID_0000_AGE_0060_CONTRAST_1_CT.dcm\")\n",
        "\n",
        "#let's see what type of object it is, using type function\n",
        "type(image)"
      ],
      "metadata": {
        "id": "K0gYdHeM1ReM"
      },
      "execution_count": null,
      "outputs": []
    },
    {
      "cell_type": "code",
      "source": [
        "#let's display the array\n",
        "image"
      ],
      "metadata": {
        "id": "WXmWd7gAHSJX"
      },
      "execution_count": null,
      "outputs": []
    },
    {
      "cell_type": "code",
      "source": [
        "#Q7\n",
        "#now let's find out the dimension of the array\n",
        "\n",
        "#<your input>.shape"
      ],
      "metadata": {
        "id": "n6IiMmzehSgw"
      },
      "execution_count": null,
      "outputs": []
    },
    {
      "cell_type": "code",
      "source": [
        "#Q8a\n",
        "#let's display the image\n",
        "plt.imshow(image)\n"
      ],
      "metadata": {
        "id": "1XUp8MC7ux8z"
      },
      "execution_count": null,
      "outputs": []
    },
    {
      "cell_type": "code",
      "source": [
        "#Q8b\n",
        "#let's display the image this way. What is the difference with previous?\n",
        "plt.imshow(image)\n",
        "plt.axis('off')\n",
        "plt.show()"
      ],
      "metadata": {
        "id": "6jfE6XXWKTDF"
      },
      "execution_count": null,
      "outputs": []
    },
    {
      "cell_type": "code",
      "source": [
        "#Q9\n",
        "#Now let's display the image above in gray scale by adding in imshow instruction ,cmap='gray'\n",
        "#plt.imshow(<your input>, cmap='gray')\n",
        "#plt.axis('off')\n",
        "#plt.<your input>"
      ],
      "metadata": {
        "id": "Dhrc6Ej7Gc0k"
      },
      "execution_count": null,
      "outputs": []
    },
    {
      "cell_type": "code",
      "source": [
        "#now let's read three images from 60 year old patients and call them im1,im2,im3 respectively\n",
        "im1=imageio.imread('https://raw.githubusercontent.com/carighi/al_ml_workshop/main/Additional_exercises/CT_medical_images/dicom_dir/ID_0000_AGE_0060_CONTRAST_1_CT.dcm')\n",
        "im2=imageio.imread('https://raw.githubusercontent.com/carighi/al_ml_workshop/main/Additional_exercises/CT_medical_images/dicom_dir/ID_0010_AGE_0060_CONTRAST_1_CT.dcm')\n",
        "im3=imageio.imread('https://raw.githubusercontent.com/carighi/al_ml_workshop/main/Additional_exercises/CT_medical_images/dicom_dir/ID_0097_AGE_0060_CONTRAST_0_CT.dcm')"
      ],
      "metadata": {
        "id": "yaujaC6BdPci"
      },
      "execution_count": null,
      "outputs": []
    },
    {
      "cell_type": "code",
      "source": [
        "#let's stack the images in an n-dimensional array and check the dimension of the array\n",
        "vol =np.stack([im1, im2, im3])\n",
        "vol.shape"
      ],
      "metadata": {
        "id": "CtJC963Tej3Z"
      },
      "execution_count": null,
      "outputs": []
    },
    {
      "cell_type": "code",
      "source": [
        "#We are going to use plt.subplots to create a figure canvas with multiple axessubplot objects. We will display the three images in greyscale. We also ask not to display axis.\n",
        "fig, axes = plt.subplots(nrows=1, ncols=3)\n",
        "axes[0].imshow(vol[0],cmap='gray')\n",
        "axes[1].imshow(vol[1],cmap='gray')\n",
        "axes[2].imshow(vol[2],cmap='gray')\n",
        "for ax in axes:\n",
        "  ax.axis('off')\n",
        "plt.show()"
      ],
      "metadata": {
        "id": "kL7Kbjp1ekgu"
      },
      "execution_count": null,
      "outputs": []
    }
  ]
}