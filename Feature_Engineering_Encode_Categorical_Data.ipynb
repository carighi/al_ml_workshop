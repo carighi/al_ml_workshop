{
  "nbformat": 4,
  "nbformat_minor": 0,
  "metadata": {
    "colab": {
      "provenance": [],
      "include_colab_link": true
    },
    "kernelspec": {
      "name": "python3",
      "display_name": "Python 3"
    },
    "language_info": {
      "name": "python"
    }
  },
  "cells": [
    {
      "cell_type": "markdown",
      "metadata": {
        "id": "view-in-github",
        "colab_type": "text"
      },
      "source": [
        "<a href=\"https://colab.research.google.com/github/carighi/al_ml_workshop/blob/main/Feature_Engineering_Encode_Categorical_Data.ipynb\" target=\"_parent\"><img src=\"https://colab.research.google.com/assets/colab-badge.svg\" alt=\"Open In Colab\"/></a>"
      ]
    },
    {
      "cell_type": "markdown",
      "source": [
        "# Feature Engineering: encoding categorical data"
      ],
      "metadata": {
        "id": "y4iUMBbgWCXP"
      }
    },
    {
      "cell_type": "markdown",
      "source": [
        "#**Encode Categorical Data**\n",
        "\n"
      ],
      "metadata": {
        "id": "mfyjWBlmvoQE"
      }
    },
    {
      "cell_type": "markdown",
      "source": [
        "Machine learning models require all input and output variables to be numeric. This means\n",
        "that if your data contains categorical data, you must encode it to numbers before you can fit\n",
        "and evaluate a model. The two most popular techniques are an Ordinal encoding and a One\n",
        "Hot encoding.\n",
        "\n",
        "In this tutorial, you will learn:\n",
        "\n",
        "* Encoding is a required pre-processing step when working with categorical data for machine\n",
        "learning algorithms.\n",
        "* How to use ordinal encoding for categorical variables that have a natural rank ordering.\n",
        "* How to use one hot encoding for categorical variables that do not have a natural rank\n",
        "ordering.\n",
        "\n",
        "\n",
        "Adapted from Jason Brownlee. 2020. [Data Preparation for Machine Learning](https://machinelearningmastery.com/data-preparation-for-machine-learning/).\n",
        "\n",
        "This activity was prepared for the Practical AI/ML for Computational Biology and Chemistry Workshop (June 13-17, 2022, UD) https://github.com/udel-cbcb/al_ml_workshop\n",
        "\n",
        "Code explanation has been enriched using [CS50.ai](https://cs50.ai/)"
      ],
      "metadata": {
        "id": "PzI4Y70AXgqb"
      }
    },
    {
      "cell_type": "markdown",
      "source": [
        "##Nominal and Ordinal Variables\n",
        "\n",
        "* **Nominal Variable**. Variable comprises a finite set of discrete values with no rank-order\n",
        "relationship between values.\n",
        "* **Ordinal Variable**. Variable comprises a finite set of discrete values with a ranked\n",
        "ordering between values.\n",
        "\n",
        "Some algorithms can work with categorical data directly. For example, a decision tree can\n",
        "be learned directly from categorical data with no data transform required (this depends on\n",
        "the specific implementation). Many machine learning algorithms cannot operate on label data\n",
        "directly. They require all input variables and output variables to be numeric. In general, this is\n",
        "mostly a constraint of the effcient implementation of machine learning algorithms rather than\n",
        "hard limitations on the algorithms themselves.\n",
        "\n",
        "Some implementations of machine learning algorithms require all data to be numerical. This means that categorical data must be converted\n",
        "to a numerical form. If the categorical variable is an output variable, you may also want to\n",
        "convert predictions by the model back into a categorical form in order to present them or use\n",
        "them in some application."
      ],
      "metadata": {
        "id": "mDLmE8s1Ugy8"
      }
    },
    {
      "cell_type": "markdown",
      "source": [
        "##Encoding Categorical Data\n",
        "\n",
        "There are three common approaches for converting ordinal and categorical variables to numerical\n",
        "values. They are:\n",
        "* Ordinal Encoding\n",
        "* One Hot Encoding\n",
        "* Dummy Variable Encoding"
      ],
      "metadata": {
        "id": "ZowEabAnU7ZS"
      }
    },
    {
      "cell_type": "markdown",
      "source": [
        "###Ordinal Encoding\n",
        "This is a preprocessing technique used for converting categorical data into numeric values while preserving their inherent ordering.\n",
        "In ordinal encoding, each unique category value is assigned an integer value. An integer ordinal encoding is a natural encoding for ordinal variables. For categorical\n",
        "variables, it imposes an ordinal relationship where no such relationship may exist. This can\n",
        "cause problems and a one hot encoding may be used instead."
      ],
      "metadata": {
        "id": "TmK0Xa7kVS7J"
      }
    },
    {
      "cell_type": "markdown",
      "source": [
        "The following code uses OrdinalEncoder class from the sklearn.preprocessing module to convert categorical data into numerical data. This is often necessary in machine learning, as many algorithms work better with numerical data.\n",
        "\n",
        "\n",
        "    from numpy import asarray: This line imports the asarray function from the numpy module. asarray is used to convert a given input into an array.\n",
        "\n",
        "    from sklearn.preprocessing import OrdinalEncoder: This line imports the OrdinalEncoder class from the sklearn.preprocessing module.\n",
        "\n",
        "    data = asarray([['red'], ['green'], ['blue']]): This line creates a numpy array with the colors 'red', 'green', and 'blue'.\n",
        "\n",
        "    encoder = OrdinalEncoder(): This line creates an instance of the OrdinalEncoder class.\n",
        "\n",
        "    result = encoder.fit_transform(data): This line fits the encoder to the data and then transforms the data. The fit_transform method is a combination of the fit and transform methods. fit determines the encoding based on the provided data, and transform applies this encoding to the data.\n",
        "\n",
        "    The transformed data is then printed out. The colors have been replaced with numbers. Each unique color is assigned a unique number. The assignment is arbitrary and does not imply any order or importance.\n"
      ],
      "metadata": {
        "id": "f0FyU7K5LdZS"
      }
    },
    {
      "cell_type": "code",
      "source": [
        "# This line imports the asarray function from the numpy module. asarray is used to convert a given input into an array.\n",
        "from numpy import asarray\n",
        "# This line imports the OrdinalEncoder class from the sklearn.preprocessing module\n",
        "from sklearn.preprocessing import OrdinalEncoder\n",
        "# This line creates a numpy array with the colors 'red', 'green', and 'blue'\n",
        "data = asarray([['red'], ['green'], ['blue']])\n",
        "print(\"Original data: \\n\",data)\n",
        "# This line creates an instance of the OrdinalEncoder class\n",
        "encoder = OrdinalEncoder()\n",
        "# This line fits the encoder to the data and then transforms the data.\n",
        "# The fit_transform method is a combination of the fit and transform methods.\n",
        "# fit determines the encoding based on the provided data, and transform applies this encoding to the data.\n",
        "result = encoder.fit_transform(data)\n",
        "print(\"Encoded data: \\n\",result)"
      ],
      "metadata": {
        "colab": {
          "base_uri": "https://localhost:8080/"
        },
        "id": "8xyZsQU5VhfF",
        "outputId": "1111734b-eb28-44f7-81c4-6a997fbebea0"
      },
      "execution_count": 2,
      "outputs": [
        {
          "output_type": "stream",
          "name": "stdout",
          "text": [
            "Original data: \n",
            " [['red']\n",
            " ['green']\n",
            " ['blue']]\n",
            "Encoded data: \n",
            " [[2.]\n",
            " [1.]\n",
            " [0.]]\n"
          ]
        }
      ]
    },
    {
      "cell_type": "markdown",
      "source": [
        "We\n",
        "can see that the numbers are assigned to the labels as we expected.\n",
        "\n",
        "This **OrdinalEncoder** class is intended for input variables that are organized into rows and\n",
        "columns, e.g. a matrix. If a categorical target variable needs to be encoded for a classification\n",
        "problem, then the **LabelEncoder** class can be used. It does the same\n",
        "thing as the **OrdinalEncoder**, although it expects a one-dimensional input for the single target\n",
        "variable."
      ],
      "metadata": {
        "id": "_vCGhBZRVlvL"
      }
    },
    {
      "cell_type": "code",
      "source": [
        "from numpy import asarray\n",
        "from sklearn.preprocessing import LabelEncoder\n",
        "\n",
        "data = asarray([['red'], ['green'], ['blue']])\n",
        "data = data.ravel()  # Flatten the array\n",
        "print(\"Original data: \\n\",data)\n",
        "\n",
        "encoder = LabelEncoder()\n",
        "result = encoder.fit_transform(data)\n",
        "print(\"Encoded data: \\n\",result)"
      ],
      "metadata": {
        "colab": {
          "base_uri": "https://localhost:8080/"
        },
        "id": "tO1nURo3NEOz",
        "outputId": "711187d5-e8b3-4b2f-a29e-e90e746c0756"
      },
      "execution_count": 3,
      "outputs": [
        {
          "output_type": "stream",
          "name": "stdout",
          "text": [
            "Original data: \n",
            " ['red' 'green' 'blue']\n",
            "Encoded data: \n",
            " [2 1 0]\n"
          ]
        }
      ]
    },
    {
      "cell_type": "markdown",
      "source": [
        "###One Hot Encoding\n",
        "For categorical variables where no ordinal relationship exists, the integer encoding may not be\n",
        "enough or even misleading to the model. Forcing an ordinal relationship via an ordinal encoding\n",
        "and allowing the model to assume a natural ordering between categories may result in poor\n",
        "performance or unexpected results (predictions halfway between categories). In this case, a one\n",
        "hot encoding can be applied to the ordinal representation. This is where the integer encoded\n",
        "variable is removed and one new binary variable is added for each unique integer value in the\n",
        "variable."
      ],
      "metadata": {
        "id": "gGRRlv1kV_WE"
      }
    },
    {
      "cell_type": "markdown",
      "source": [
        "The code below demonstrate one-hot encoding, a common technique used in machine learning to handle categorical data.\n",
        "\n",
        "    It starts by importing necessary libraries. asarray is used to convert input to an array, and OneHotEncoder is used for the encoding process.\n",
        "\n",
        "    An array named data is created with three elements: 'red', 'green', and 'blue'.\n",
        "\n",
        "    An instance of OneHotEncoder is created with sparse=False to return a regular numpy array instead of a sparse matrix.\n",
        "\n",
        "    The fit_transform method is used to fit the encoder to the data and then transform the data into a one-hot encoded format.\n",
        "\n",
        "    The one-hot encoded data is then printed out. For each unique value in the original data, one-hot encoding creates a new binary column in the transformed data. In this case, 'red', 'green', and 'blue' each get their own column, and a '1' is placed in the column that corresponds to the original value, with '0's in the other columns.\n"
      ],
      "metadata": {
        "id": "M5RByff0XWyI"
      }
    },
    {
      "cell_type": "code",
      "source": [
        "# example of an one hot encoding\n",
        "from numpy import asarray\n",
        "# Encode categorical features as a one-hot numeric array.\n",
        "from sklearn.preprocessing import OneHotEncoder\n",
        "# define data\n",
        "data = asarray([['red'], ['green'], ['blue']])\n",
        "print(data)\n",
        "# define one hot encoding\n",
        "# Will return sparse matrix if set True else will return an array.\n",
        "encoder = OneHotEncoder(sparse=False)\n",
        "# Fit OneHotEncoder to data, then transform data.\n",
        "onehot = encoder.fit_transform(data)\n",
        "print(onehot)"
      ],
      "metadata": {
        "colab": {
          "base_uri": "https://localhost:8080/"
        },
        "id": "LjIgiHuMWUrm",
        "outputId": "46492c9e-0459-46e7-e85a-cdfd548e3619"
      },
      "execution_count": null,
      "outputs": [
        {
          "output_type": "stream",
          "name": "stdout",
          "text": [
            "[['red']\n",
            " ['green']\n",
            " ['blue']]\n",
            "[[0. 0. 1.]\n",
            " [0. 1. 0.]\n",
            " [1. 0. 0.]]\n"
          ]
        }
      ]
    },
    {
      "cell_type": "markdown",
      "source": [
        "We can see the one hot encoding\n",
        "matching our expectation of 3 binary variables in the order blue, green and red."
      ],
      "metadata": {
        "id": "14cOFbh3Wd98"
      }
    },
    {
      "cell_type": "markdown",
      "source": [
        "#Now with a real example:\n",
        "##Breast Cancer Categorical Dataset\n",
        "Going back to our example in [Basic Data Cleaning](https://colab.research.google.com/github/carighi/al_ml_workshop/blob/main/Basic_Data_Cleaning.ipynb), the Breast cancer dataset, which classifies breast cancer\n",
        "patient data as either a recurrence or no recurrence of cancer. There are 286 examples and nine\n",
        "input variables. It is a binary classification problem. A naive model can achieve an accuracy\n",
        "of 70 percent on this dataset. A good score is about 76 percent.\n",
        "\n",
        "You can learn more about the dataset here:\n",
        "* Breast Cancer Dataset ([breast-cancer.csv](https://raw.githubusercontent.com/jbrownlee/Datasets/master/breast-cancer.csv))\n",
        "* Breast Cancer Dataset Description ([breast-cancer.names](https://raw.githubusercontent.com/jbrownlee/Datasets/master/breast-cancer.names))"
      ],
      "metadata": {
        "id": "jMA441NTYalQ"
      }
    },
    {
      "cell_type": "markdown",
      "source": [
        "###Download Breast Cancer data files"
      ],
      "metadata": {
        "id": "LgNi_b2VYgUW"
      }
    },
    {
      "cell_type": "code",
      "source": [
        "!wget \"https://raw.githubusercontent.com/jbrownlee/Datasets/master/breast-cancer.csv\" -O breast-cancer.csv\n",
        "!wget \"https://raw.githubusercontent.com/jbrownlee/Datasets/master/breast-cancer.names\" -O breast-cancer.names\n",
        "!head breast-cancer.csv"
      ],
      "metadata": {
        "id": "K31efwEBYisf",
        "colab": {
          "base_uri": "https://localhost:8080/"
        },
        "outputId": "ca365d6b-9301-4ec6-c760-b75b6dda2d10"
      },
      "execution_count": 15,
      "outputs": [
        {
          "output_type": "stream",
          "name": "stdout",
          "text": [
            "--2024-04-26 21:29:34--  https://raw.githubusercontent.com/jbrownlee/Datasets/master/breast-cancer.csv\n",
            "Resolving raw.githubusercontent.com (raw.githubusercontent.com)... 185.199.111.133, 185.199.108.133, 185.199.109.133, ...\n",
            "Connecting to raw.githubusercontent.com (raw.githubusercontent.com)|185.199.111.133|:443... connected.\n",
            "HTTP request sent, awaiting response... 200 OK\n",
            "Length: 24373 (24K) [text/plain]\n",
            "Saving to: ‘breast-cancer.csv’\n",
            "\n",
            "\rbreast-cancer.csv     0%[                    ]       0  --.-KB/s               \rbreast-cancer.csv   100%[===================>]  23.80K  --.-KB/s    in 0.002s  \n",
            "\n",
            "2024-04-26 21:29:34 (13.3 MB/s) - ‘breast-cancer.csv’ saved [24373/24373]\n",
            "\n",
            "--2024-04-26 21:29:34--  https://raw.githubusercontent.com/jbrownlee/Datasets/master/breast-cancer.names\n",
            "Resolving raw.githubusercontent.com (raw.githubusercontent.com)... 185.199.108.133, 185.199.109.133, 185.199.110.133, ...\n",
            "Connecting to raw.githubusercontent.com (raw.githubusercontent.com)|185.199.108.133|:443... connected.\n",
            "HTTP request sent, awaiting response... 200 OK\n",
            "Length: 3162 (3.1K) [text/plain]\n",
            "Saving to: ‘breast-cancer.names’\n",
            "\n",
            "breast-cancer.names 100%[===================>]   3.09K  --.-KB/s    in 0s      \n",
            "\n",
            "2024-04-26 21:29:34 (21.8 MB/s) - ‘breast-cancer.names’ saved [3162/3162]\n",
            "\n",
            "'40-49','premeno','15-19','0-2','yes','3','right','left_up','no','recurrence-events'\n",
            "'50-59','ge40','15-19','0-2','no','1','right','central','no','no-recurrence-events'\n",
            "'50-59','ge40','35-39','0-2','no','2','left','left_low','no','recurrence-events'\n",
            "'40-49','premeno','35-39','0-2','yes','3','right','left_low','yes','no-recurrence-events'\n",
            "'40-49','premeno','30-34','3-5','yes','2','left','right_up','no','recurrence-events'\n",
            "'50-59','premeno','25-29','3-5','no','2','right','left_up','yes','no-recurrence-events'\n",
            "'50-59','ge40','40-44','0-2','no','3','left','left_up','no','no-recurrence-events'\n",
            "'40-49','premeno','10-14','0-2','no','2','left','left_up','no','no-recurrence-events'\n",
            "'40-49','premeno','0-4','0-2','no','2','right','right_low','no','no-recurrence-events'\n",
            "'40-49','ge40','40-44','15-17','yes','2','right','left_up','yes','no-recurrence-events'\n"
          ]
        }
      ]
    },
    {
      "cell_type": "code",
      "source": [
        "# load and summarize the dataset\n",
        "from pandas import read_csv\n",
        "# load the dataset\n",
        "dataset = read_csv('breast-cancer.csv', header=None)\n",
        "# retrieve the array of data\n",
        "data = dataset.values\n",
        "# separate into input and output columns\n",
        "X = data[:, :-1].astype(str)\n",
        "y = data[:, -1].astype(str)\n",
        "# summarize\n",
        "print('Input', X.shape)\n",
        "print('Output', y.shape)"
      ],
      "metadata": {
        "colab": {
          "base_uri": "https://localhost:8080/"
        },
        "id": "wsaRq0cpYmXE",
        "outputId": "48f7eb54-4642-4848-b22c-df4c035d8a0f"
      },
      "execution_count": 16,
      "outputs": [
        {
          "output_type": "stream",
          "name": "stdout",
          "text": [
            "Input (286, 9)\n",
            "Output (286,)\n"
          ]
        }
      ]
    },
    {
      "cell_type": "markdown",
      "source": [
        "We\n",
        "can see that we have 286 examples and nine input variables.\n",
        "\n"
      ],
      "metadata": {
        "id": "SHroPZtkYrta"
      }
    },
    {
      "cell_type": "markdown",
      "source": [
        "###Applying OrdinalEncoder Transform to the dataset\n",
        "As mentioned before, an ordinal encoding involves mapping each unique label to an integer value. This type of\n",
        "encoding is really only appropriate if there is a known relationship between the categories. This\n",
        "relationship does exist for some of the variables in our dataset, and ideally, this should be\n",
        "harnessed when preparing the data. In this case, we will ignore any possible existing ordinal\n",
        "relationship and assume all variables are categorical. It can still be helpful to use an ordinal\n",
        "encoding, at least as a point of reference with other encoding schemes.\n",
        "We can use the OrdinalEncoder from scikit-learn to encode each variable to integers."
      ],
      "metadata": {
        "id": "Dn1kp-88ZiTb"
      }
    },
    {
      "cell_type": "code",
      "source": [
        "# ordinal encode the breast cancer dataset\n",
        "from pandas import read_csv\n",
        "from sklearn.preprocessing import LabelEncoder\n",
        "from sklearn.preprocessing import OrdinalEncoder\n",
        "# load the dataset\n",
        "dataset = read_csv('breast-cancer.csv', header=None)\n",
        "# retrieve the array of data\n",
        "data = dataset.values\n",
        "# separate into input and output columns\n",
        "X = data[:, :-1].astype(str)\n",
        "y = data[:, -1].astype(str)\n",
        "# ordinal encode input variables\n",
        "ordinal_encoder = OrdinalEncoder()\n",
        "X = ordinal_encoder.fit_transform(X)\n",
        "# ordinal encode target variable\n",
        "label_encoder = LabelEncoder()\n",
        "y = label_encoder.fit_transform(y)\n",
        "# summarize the transformed data\n",
        "print('Input', X.shape)\n",
        "print(X[:5, :])\n",
        "print('Output', y.shape)\n",
        "print(y[:5])"
      ],
      "metadata": {
        "colab": {
          "base_uri": "https://localhost:8080/"
        },
        "id": "1tT9bkIhY79m",
        "outputId": "3202c078-dd84-49b6-d6ed-a06372f6b7a4"
      },
      "execution_count": 17,
      "outputs": [
        {
          "output_type": "stream",
          "name": "stdout",
          "text": [
            "Input (286, 9)\n",
            "[[2. 2. 2. 0. 1. 2. 1. 2. 0.]\n",
            " [3. 0. 2. 0. 0. 0. 1. 0. 0.]\n",
            " [3. 0. 6. 0. 0. 1. 0. 1. 0.]\n",
            " [2. 2. 6. 0. 1. 2. 1. 1. 1.]\n",
            " [2. 2. 5. 4. 1. 1. 0. 4. 0.]]\n",
            "Output (286,)\n",
            "[1 0 1 0 1]\n"
          ]
        }
      ]
    },
    {
      "cell_type": "markdown",
      "source": [
        "We would expect the number of rows, and in this case, the number of columns, to be unchanged,\n",
        "except all string values are now integer values. As expected, in this case, we can see that the\n",
        "number of variables is unchanged, but all values are now ordinal encoded integers."
      ],
      "metadata": {
        "id": "J9D0Oh56ZEIk"
      }
    },
    {
      "cell_type": "markdown",
      "source": [
        "Next, let's evaluate machine learning on this dataset with this encoding. The best practice\n",
        "when encoding variables is to fit the encoding on the training dataset, then apply it to the train\n",
        "and test datasets. We will first split the dataset, then prepare the encoding on the training set,\n",
        "and apply it to the test set."
      ],
      "metadata": {
        "id": "i4aA5VKVZIM0"
      }
    },
    {
      "cell_type": "markdown",
      "source": [
        "Here is a summary the different steps for the code below:\n",
        "\n",
        "\n",
        "    The code starts by importing necessary libraries and functions. LabelEncoder and OrdinalEncoder are used for preprocessing categorical data, and accuracy_score is used to evaluate the model's performance.\n",
        "\n",
        "    The read_csv function is used to load a dataset from a CSV file named 'breast-cancer.csv'.\n",
        "\n",
        "    The data is then split into features (X) and the target variable (y). The features are all columns except the last one, and the target is the last column.\n",
        "\n",
        "    The dataset is split into training and testing sets using the train_test_split function.\n",
        "\n",
        "    The OrdinalEncoder is used to convert categorical features into integer values.\n",
        "\n",
        "    The LabelEncoder is used to convert the categorical target variable into integer values.\n",
        "\n",
        "    A logistic regression model is created and trained using the training data.\n",
        "\n",
        "    The trained model is used to make predictions on the test data.\n",
        "\n",
        "    Finally, the accuracy of the model is calculated by comparing the predicted values with the actual values in the test set, and the accuracy is printed out.\n"
      ],
      "metadata": {
        "id": "SzflzxpmVMq3"
      }
    },
    {
      "cell_type": "code",
      "source": [
        "# evaluate logistic regression on the breast cancer dataset with an ordinal encoding\n",
        "from pandas import read_csv\n",
        "from sklearn.model_selection import train_test_split\n",
        "from sklearn.linear_model import LogisticRegression\n",
        "from sklearn.preprocessing import LabelEncoder\n",
        "from sklearn.preprocessing import OrdinalEncoder\n",
        "from sklearn.metrics import accuracy_score\n",
        "# load the dataset\n",
        "dataset = read_csv('breast-cancer.csv', header=None)\n",
        "# retrieve the array of data\n",
        "data = dataset.values\n",
        "# separate into input and output columns\n",
        "X = data[:, :-1].astype(str)\n",
        "y = data[:, -1].astype(str)\n",
        "# split the dataset into train and test sets\n",
        "X_train, X_test, y_train, y_test = train_test_split(X, y, test_size=0.33, random_state=1)\n",
        "# ordinal encode input variables\n",
        "ordinal_encoder = OrdinalEncoder()\n",
        "ordinal_encoder.fit(X_train)\n",
        "X_train = ordinal_encoder.transform(X_train)\n",
        "X_test = ordinal_encoder.transform(X_test)\n",
        "# ordinal encode target variable\n",
        "label_encoder = LabelEncoder()\n",
        "label_encoder.fit(y_train)\n",
        "y_train = label_encoder.transform(y_train)\n",
        "y_test = label_encoder.transform(y_test)\n",
        "# define the model\n",
        "model = LogisticRegression()\n",
        "# fit on the training set\n",
        "model.fit(X_train, y_train)\n",
        "# predict on test set\n",
        "yhat = model.predict(X_test)\n",
        "# evaluate predictions\n",
        "accuracy = accuracy_score(y_test, yhat)\n",
        "print('Accuracy: %.2f' % (accuracy*100))"
      ],
      "metadata": {
        "colab": {
          "base_uri": "https://localhost:8080/"
        },
        "id": "Ajy4tca-ZLhL",
        "outputId": "475ee719-3568-420f-ce2e-1a53968a18fc"
      },
      "execution_count": 19,
      "outputs": [
        {
          "output_type": "stream",
          "name": "stdout",
          "text": [
            "Accuracy: 75.79\n"
          ]
        }
      ]
    },
    {
      "cell_type": "markdown",
      "source": [
        "In this case, the model achieved a classification accuracy of about 75.79 percent, which is a\n",
        "reasonable score."
      ],
      "metadata": {
        "id": "jvCWz1FVZTKY"
      }
    },
    {
      "cell_type": "markdown",
      "source": [
        "###Applying OneHotEncoder Transform\n",
        "As mentioned before, one hot encoding is appropriate for categorical data where no relationship exists between\n",
        "categories. The scikit-learn library provides the OneHotEncoder class to automatically one hot\n",
        "encode one or more variables. By default the OneHotEncoder will output data with a sparse\n",
        "representation, which is efficient given that most values are 0 in the encoded representation.\n",
        "We will disable this feature by setting the sparse argument to False so that we can review the\n",
        "effect of the encoding. Once defined, we can call the fit transform() function and pass it to\n",
        "our dataset to create a quantile transformed version of our dataset."
      ],
      "metadata": {
        "id": "iOIGeNTZZav_"
      }
    },
    {
      "cell_type": "code",
      "source": [
        "# one-hot encode the breast cancer dataset\n",
        "from pandas import read_csv\n",
        "from sklearn.preprocessing import LabelEncoder\n",
        "from sklearn.preprocessing import OneHotEncoder\n",
        "# load the dataset\n",
        "dataset = read_csv('breast-cancer.csv', header=None)\n",
        "# retrieve the array of data\n",
        "data = dataset.values\n",
        "# separate into input and output columns\n",
        "X = data[:, :-1].astype(str)\n",
        "y = data[:, -1].astype(str)\n",
        "# one hot encode input variables\n",
        "onehot_encoder = OneHotEncoder(sparse=False)\n",
        "X = onehot_encoder.fit_transform(X)\n",
        "# ordinal encode target variable\n",
        "label_encoder = LabelEncoder()\n",
        "y = label_encoder.fit_transform(y)\n",
        "# summarize the transformed data\n",
        "print('Input', X.shape)\n",
        "print(X[:5, :])"
      ],
      "metadata": {
        "colab": {
          "base_uri": "https://localhost:8080/"
        },
        "id": "2yHzAZ2HZnmS",
        "outputId": "d98f665c-857a-491f-f246-7ece9036cece"
      },
      "execution_count": null,
      "outputs": [
        {
          "output_type": "stream",
          "name": "stdout",
          "text": [
            "Input (286, 43)\n",
            "[[0. 0. 1. 0. 0. 0. 0. 0. 1. 0. 0. 1. 0. 0. 0. 0. 0. 0. 0. 0. 1. 0. 0. 0.\n",
            "  0. 0. 0. 0. 1. 0. 0. 0. 1. 0. 1. 0. 0. 1. 0. 0. 0. 1. 0.]\n",
            " [0. 0. 0. 1. 0. 0. 1. 0. 0. 0. 0. 1. 0. 0. 0. 0. 0. 0. 0. 0. 1. 0. 0. 0.\n",
            "  0. 0. 0. 1. 0. 0. 1. 0. 0. 0. 1. 1. 0. 0. 0. 0. 0. 1. 0.]\n",
            " [0. 0. 0. 1. 0. 0. 1. 0. 0. 0. 0. 0. 0. 0. 0. 1. 0. 0. 0. 0. 1. 0. 0. 0.\n",
            "  0. 0. 0. 1. 0. 0. 0. 1. 0. 1. 0. 0. 1. 0. 0. 0. 0. 1. 0.]\n",
            " [0. 0. 1. 0. 0. 0. 0. 0. 1. 0. 0. 0. 0. 0. 0. 1. 0. 0. 0. 0. 1. 0. 0. 0.\n",
            "  0. 0. 0. 0. 1. 0. 0. 0. 1. 0. 1. 0. 1. 0. 0. 0. 0. 0. 1.]\n",
            " [0. 0. 1. 0. 0. 0. 0. 0. 1. 0. 0. 0. 0. 0. 1. 0. 0. 0. 0. 0. 0. 0. 0. 0.\n",
            "  1. 0. 0. 0. 1. 0. 0. 1. 0. 1. 0. 0. 0. 0. 0. 1. 0. 1. 0.]]\n"
          ]
        }
      ]
    },
    {
      "cell_type": "markdown",
      "source": [
        "We would expect the number of rows to remain the same, but the number of columns to\n",
        "dramatically increase. As expected, in this case, we can see that the number of variables has\n",
        "leaped up from 9 to 43 and all values are now binary values 0 or 1."
      ],
      "metadata": {
        "id": "iGk-WswwZ0uQ"
      }
    },
    {
      "cell_type": "markdown",
      "source": [
        "Next, let's evaluate machine learning on this dataset with this encoding as we did in the\n",
        "previous section. The encoding is fit on the training set then applied to both train and test sets\n",
        "as before."
      ],
      "metadata": {
        "id": "K7iVK_KMaAvE"
      }
    },
    {
      "cell_type": "code",
      "source": [
        "# evaluate logistic regression on the breast cancer dataset with a one-hot encoding\n",
        "from pandas import read_csv\n",
        "from sklearn.model_selection import train_test_split\n",
        "from sklearn.linear_model import LogisticRegression\n",
        "from sklearn.preprocessing import LabelEncoder\n",
        "from sklearn.preprocessing import OneHotEncoder\n",
        "from sklearn.metrics import accuracy_score\n",
        "# load the dataset\n",
        "dataset = read_csv('breast-cancer.csv', header=None)\n",
        "# retrieve the array of data\n",
        "data = dataset.values\n",
        "# separate into input and output columns\n",
        "X = data[:, :-1].astype(str)\n",
        "y = data[:, -1].astype(str)\n",
        "# split the dataset into train and test sets\n",
        "X_train, X_test, y_train, y_test = train_test_split(X, y, test_size=0.33, random_state=1)\n",
        "# one-hot encode input variables\n",
        "onehot_encoder = OneHotEncoder()\n",
        "onehot_encoder.fit(X_train)\n",
        "X_train = onehot_encoder.transform(X_train)\n",
        "X_test = onehot_encoder.transform(X_test)\n",
        "# ordinal encode target variable\n",
        "label_encoder = LabelEncoder()\n",
        "label_encoder.fit(y_train)\n",
        "y_train = label_encoder.transform(y_train)\n",
        "y_test = label_encoder.transform(y_test)\n",
        "# define the model\n",
        "model = LogisticRegression()\n",
        "# fit on the training set\n",
        "model.fit(X_train, y_train)\n",
        "# predict on test set\n",
        "yhat = model.predict(X_test)\n",
        "# evaluate predictions\n",
        "accuracy = accuracy_score(y_test, yhat)\n",
        "print('Accuracy: %.2f' % (accuracy*100))"
      ],
      "metadata": {
        "colab": {
          "base_uri": "https://localhost:8080/"
        },
        "id": "wJp4KyfXaEf1",
        "outputId": "d52b71ec-0659-445f-bbe8-9e2ee592a245"
      },
      "execution_count": null,
      "outputs": [
        {
          "output_type": "stream",
          "name": "stdout",
          "text": [
            "Accuracy: 70.53\n"
          ]
        }
      ]
    },
    {
      "cell_type": "markdown",
      "source": [
        "Which encoder worked better?"
      ],
      "metadata": {
        "id": "raB8Y7YRaLMN"
      }
    }
  ]
}