{
  "cells": [
    {
      "cell_type": "markdown",
      "metadata": {
        "id": "view-in-github",
        "colab_type": "text"
      },
      "source": [
        "<a href=\"https://colab.research.google.com/github/carighi/al_ml_workshop/blob/main/NumPy_exercises.ipynb\" target=\"_parent\"><img src=\"https://colab.research.google.com/assets/colab-badge.svg\" alt=\"Open In Colab\"/></a>"
      ]
    },
    {
      "cell_type": "markdown",
      "metadata": {
        "id": "IWbYSGsC1vhV"
      },
      "source": [
        "# NumPy arrays\n",
        "\n",
        "**Theme: Tools & technology**\n",
        "\n",
        "NumPy (Numerical Python) is a Python package for working with numerical data. It is right at the heart of the scientific computing ecosystem in Python, and is a powerful tool for fast and memory-efficient analysis of large genomic datasets. This module introduces NumPy arrays, which are the fundamental data structure that NumPy provides for storing and computing with numerical data.\n",
        "\n",
        "This module borrows heavily from two works: [NumPy: the absolute basics for beginners](https://numpy.org/doc/stable/user/absolute_beginners.html) by the NumPy team and [A visual Intro to NumPy and Data Representation](https://jalammar.github.io/visual-numpy/) by Jay Alammar. [Anopheles genomic surveillance](https://anopheles-genomic-surveillance.github.io/workshop-4/module-1-numpy.html) by MalariaGEN"
      ]
    },
    {
      "cell_type": "markdown",
      "metadata": {
        "id": "WiKt280J13oB"
      },
      "source": [
        "## Learning objectives\n",
        "\n",
        "At the end of this module you will be able to:\n",
        "\n",
        "* Explain why we use NumPy for genomic data analysis.\n",
        "* Create NumPy arrays.\n",
        "* Access data in an array using indexing and slicing.\n",
        "* Perform simple mathematical computations with arrays.\n",
        "* Perform simple aggregations with arrays."
      ]
    },
    {
      "cell_type": "markdown",
      "metadata": {
        "id": "O4aWuag_LWgf"
      },
      "source": [
        "## Why use NumPy?\n",
        "\n",
        "NumPy is used with numerical data. It Provides\n",
        "\n",
        "We also want to perform those analyses interactively.\n",
        "\n",
        "Interactivity means computations need to run quickly, so we don't have to wait and can continue straight on with the next step in our exploration of the data.\n",
        "\n",
        "Interactivity also means we don't want to spend hours writing complicated code for each step in the analysis. We want simple code that can be written quickly and adapted as needed.\n",
        "\n",
        "In summary, we want to store numerical data so that:\n",
        "\n",
        "* **Memory is used efficiently**\n",
        "* **Computations are fast**\n",
        "* **Code is simple and concise**"
      ]
    },
    {
      "cell_type": "markdown",
      "metadata": {
        "id": "CJGGNBmGSVV6"
      },
      "source": [
        "## What is a NumPy array?\n",
        "\n",
        "A NumPy array is a data structure where the data values are arranged in an N-dimensional grid. Let's look at some examples of data that can be stored using NumPy arrays.\n",
        "\n"
      ]
    },
    {
      "cell_type": "markdown",
      "metadata": {
        "id": "6Wz4l0IsVaU9"
      },
      "source": [
        "### 1-D array (vector)\n",
        "\n",
        "An audio recording is an example of data that can be represented as a 1-dimensional (1-D) array. A 1-D array is also sometimes called a \"vector\".\n",
        "\n",
        "Here the data values in the array are the amplitude values sampled at regular time intervals, and the first (and only) dimension of the array corresponds to the time at which each audio sample should be played."
      ]
    },
    {
      "cell_type": "markdown",
      "metadata": {
        "id": "Ls8fJ7jkVArK"
      },
      "source": [
        "<img src=\"https://jalammar.github.io/images/numpy/numpy-audio.png\"/>"
      ]
    },
    {
      "cell_type": "markdown",
      "metadata": {
        "id": "rghiwjY2VeCm"
      },
      "source": [
        "### 2-D array (matrix)\n",
        "\n",
        "A black-and-white image is an example of data that can be represented as a 2-dimensional (2-D) array. A 2-D array is also sometimes called a \"matrix\".\n",
        "\n",
        "Here the data values in the array correspond to the colour of a pixel, where 0 represents black, 255 represents white, and numbers in between correspond to shades of grey.\n",
        "\n",
        "The first dimension of the array corresponds to the vertical position of pixels within the image, and the second dimension corresponds to the horizontal position of the pixels."
      ]
    },
    {
      "cell_type": "markdown",
      "metadata": {
        "id": "LHh4zzGSVFG3"
      },
      "source": [
        "<img src=\"https://jalammar.github.io/images/numpy/numpy-grayscale-image.png\"/>"
      ]
    },
    {
      "cell_type": "markdown",
      "metadata": {
        "id": "DA3P34b1Vg3y"
      },
      "source": [
        "### 3-D array (tensor)\n",
        "\n",
        "A colour image is an example of data that can be represented as a 3-dimensional (3-D) array. A 3-D array is sometimes also called a \"tensor\".\n",
        "\n",
        "Here the data values represent the intensity of each pixel in three separate color channels - red, green and blue.\n",
        "\n",
        "As with the black-and-white image, the first dimension of the array corresponds to the vertical position of pixels within the image, and the second dimension corresponds to the horizontal position of the pixels. Here now there is also a third dimension of length three, which represents the three color channels."
      ]
    },
    {
      "cell_type": "markdown",
      "metadata": {
        "id": "rqNkYBW8VIpF"
      },
      "source": [
        "<img src=\"https://jalammar.github.io/images/numpy/numpy-color-image.png\"/>"
      ]
    },
    {
      "cell_type": "markdown",
      "metadata": {
        "id": "wceY3NRtujba"
      },
      "source": [
        "Genotype calls are another example of data that can be stored as a 3-D array.\n",
        "\n",
        "Here each data value is an allele encoded numerically, where 0 encodes the reference allele, and higher values encode alternate alleles.\n",
        "\n",
        "The first dimension (rows) corresponds to the positions in the reference genome; the second dimension (columns) corresponds to the individual organisms that were sequenced; and the third dimension corresponds to the ploidy of the organisms (2 for animals such as humans or mosquitoes)."
      ]
    },
    {
      "cell_type": "markdown",
      "metadata": {
        "id": "p6y1HwLmLNxC"
      },
      "source": [
        "## Importing NumPy\n",
        "\n",
        "On colab, NumPy is already installed, so we can go ahead and import it."
      ]
    },
    {
      "cell_type": "code",
      "execution_count": null,
      "metadata": {
        "id": "giiF2vNELRXr"
      },
      "outputs": [],
      "source": [
        "import numpy as np"
      ]
    },
    {
      "cell_type": "markdown",
      "metadata": {
        "id": "Am-Q3UnrLSZE"
      },
      "source": [
        "## Creating an array from existing data\n",
        "\n",
        "There are various ways to create a NumPy array. One way is to create an array from some existing data, via the [`np.array()`](https://numpy.org/doc/stable/reference/generated/numpy.array.html#numpy.array) function."
      ]
    },
    {
      "cell_type": "markdown",
      "metadata": {
        "id": "O_oGejY1m1Et"
      },
      "source": [
        "### Creating a 1-D array\n",
        "\n",
        "Let's create a 1-D array storing the data values `[1, 2, 3]`. We'll assign this array to a variable named `data`, but this variable could be named whatever you like."
      ]
    },
    {
      "cell_type": "code",
      "execution_count": null,
      "metadata": {
        "id": "2iLJDe5FMomJ"
      },
      "outputs": [],
      "source": [
        "data = np.array([1, 2, 3])\n",
        "data"
      ]
    },
    {
      "cell_type": "code",
      "execution_count": null,
      "metadata": {
        "id": "RFCnVWjy5J8i"
      },
      "outputs": [],
      "source": [
        "type(data)"
      ]
    },
    {
      "cell_type": "markdown",
      "source": [],
      "metadata": {
        "id": "B8sKCWwhYtQ7"
      }
    },
    {
      "cell_type": "markdown",
      "metadata": {
        "id": "GD5mL0sYwXYe"
      },
      "source": [
        "Every NumPy array has some useful attributes which tell us something about the array.\n",
        "\n",
        "Here is the number of dimensions:"
      ]
    },
    {
      "cell_type": "code",
      "execution_count": null,
      "metadata": {
        "id": "8uxPzKJ0M7IW"
      },
      "outputs": [],
      "source": [
        "data.ndim"
      ]
    },
    {
      "cell_type": "markdown",
      "metadata": {
        "id": "ZRM0xvDhwgrb"
      },
      "source": [
        "Here is the total number of elements in the array:"
      ]
    },
    {
      "cell_type": "code",
      "execution_count": null,
      "metadata": {
        "id": "H4v8NS3DLW52"
      },
      "outputs": [],
      "source": [
        "data.size"
      ]
    },
    {
      "cell_type": "markdown",
      "metadata": {
        "id": "56Wj1peqwml-"
      },
      "source": [
        "Here is the shape of the array, which tells us the lengths of each of the dimensions. This returns a [tuple](https://docs.python.org/3/tutorial/datastructures.html#tuples-and-sequences) of numbers, one length for each dimension. Here there is only one dimension, so we get a tuple of length one."
      ]
    },
    {
      "cell_type": "code",
      "execution_count": null,
      "metadata": {
        "id": "r077TtRLNgz_"
      },
      "outputs": [],
      "source": [
        "data.shape"
      ]
    },
    {
      "cell_type": "markdown",
      "metadata": {
        "id": "WCnvwe4Iw9oj"
      },
      "source": [
        "Every array also has a data type (dtype) which defines the type of all of the data values."
      ]
    },
    {
      "cell_type": "code",
      "execution_count": null,
      "metadata": {
        "id": "t30fImEINhgy"
      },
      "outputs": [],
      "source": [
        "data.dtype"
      ]
    },
    {
      "cell_type": "markdown",
      "metadata": {
        "id": "TTSJaprLxD8s"
      },
      "source": [
        "Here \"int\" means [integer](https://en.wikipedia.org/wiki/Integer), i.e., data values in this array should be interpreted as whole numbers."
      ]
    },
    {
      "cell_type": "markdown",
      "metadata": {
        "id": "tDNogdx2Nim_"
      },
      "source": [
        "### Creating a 2-D array\n",
        "\n",
        "Let's create a 2-D array with three rows and two columns."
      ]
    },
    {
      "cell_type": "code",
      "execution_count": null,
      "metadata": {
        "id": "oDFUi_uxNpCI"
      },
      "outputs": [],
      "source": [
        "data_2d = np.array([[1, 2], [3, 4], [5, 6]])\n",
        "data_2d"
      ]
    },
    {
      "cell_type": "markdown",
      "metadata": {
        "id": "CiHOWGL5xacL"
      },
      "source": [
        "Here is a visual illustration of this 2-D array."
      ]
    },
    {
      "cell_type": "markdown",
      "metadata": {
        "id": "XZmuxfdJNrh5"
      },
      "source": [
        "<img src=\"https://numpy.org/doc/stable/_images/np_create_matrix.png\"></img>"
      ]
    },
    {
      "cell_type": "markdown",
      "metadata": {
        "id": "S1IfdXFaxexw"
      },
      "source": [
        "Again, let's access the attributes of this array to find out more about it."
      ]
    },
    {
      "cell_type": "code",
      "execution_count": null,
      "metadata": {
        "id": "om9MGsz3NzSz"
      },
      "outputs": [],
      "source": [
        "data_2d.ndim"
      ]
    },
    {
      "cell_type": "code",
      "execution_count": null,
      "metadata": {
        "id": "-xdfDO_qL3ao"
      },
      "outputs": [],
      "source": [
        "data_2d.size"
      ]
    },
    {
      "cell_type": "code",
      "execution_count": null,
      "metadata": {
        "id": "UNEaU457N0ap"
      },
      "outputs": [],
      "source": [
        "data_2d.shape"
      ]
    },
    {
      "cell_type": "code",
      "execution_count": null,
      "metadata": {
        "id": "ZM9MQB7oN1Cn"
      },
      "outputs": [],
      "source": [
        "data_2d.dtype"
      ]
    },
    {
      "cell_type": "markdown",
      "metadata": {
        "id": "rcEMdbGRXL5y"
      },
      "source": [
        "### Creating a 3-D array\n",
        "\n",
        "Let's now create a 3-D array, with shape (2, 2, 2) - i.e., all dimensions are length 2."
      ]
    },
    {
      "cell_type": "code",
      "execution_count": null,
      "metadata": {
        "id": "D9cA3D4uXOsY"
      },
      "outputs": [],
      "source": [
        "data_3d = np.array([[[1, 2], [3, 4]],\n",
        "                    [[5, 6], [7, 8]]])\n",
        "data_3d"
      ]
    },
    {
      "cell_type": "markdown",
      "metadata": {
        "id": "XVF_1StCXUkH"
      },
      "source": [
        "<img src=\"https://jalammar.github.io/images/numpy/numpy-3d-array.png\"/>"
      ]
    },
    {
      "cell_type": "markdown",
      "metadata": {
        "id": "2du6NmyAOSzy"
      },
      "source": [
        "## Some other array creation functions\n",
        "\n",
        "Often it is useful to create an array and initialise it such that all data values are set for us by NumPy. There are several functions for doing this, including [`np.ones()`](https://numpy.org/doc/stable/reference/generated/numpy.ones.html), [`np.zeros()`](https://numpy.org/doc/stable/reference/generated/numpy.zeros.html) and [`np.random.random()`](https://numpy.org/doc/stable/reference/random/generated/numpy.random.Generator.random.html#numpy.random.Generator.random)."
      ]
    },
    {
      "cell_type": "markdown",
      "metadata": {
        "id": "rwVA7htlmYDu"
      },
      "source": [
        "### 1-D arrays"
      ]
    },
    {
      "cell_type": "markdown",
      "metadata": {
        "id": "Wgg7ezLzy35e"
      },
      "source": [
        "Create an array with all data values initialised to one."
      ]
    },
    {
      "cell_type": "code",
      "execution_count": null,
      "metadata": {
        "id": "AFK46CLHOAKa"
      },
      "outputs": [],
      "source": [
        "ones = np.ones(3)\n",
        "ones"
      ]
    },
    {
      "cell_type": "code",
      "execution_count": null,
      "metadata": {
        "id": "X4M-jpjcQS7n"
      },
      "outputs": [],
      "source": [
        "ones.ndim"
      ]
    },
    {
      "cell_type": "code",
      "execution_count": null,
      "metadata": {
        "id": "tXWlnFydMUVs"
      },
      "outputs": [],
      "source": [
        "ones.size"
      ]
    },
    {
      "cell_type": "code",
      "execution_count": null,
      "metadata": {
        "id": "qf3yC0_WQRGJ"
      },
      "outputs": [],
      "source": [
        "ones.shape"
      ]
    },
    {
      "cell_type": "code",
      "execution_count": null,
      "metadata": {
        "id": "evZhzKcTQRtK"
      },
      "outputs": [],
      "source": [
        "ones.dtype"
      ]
    },
    {
      "cell_type": "markdown",
      "metadata": {
        "id": "981gyIwKy8QO"
      },
      "source": [
        "Note here the dtype is \"float64\". Here \"float\" means [floating-point number](https://en.wikipedia.org/wiki/Floating-point_arithmetic#Floating-point_numbers), i.e., the data values should be interpreted as real numbers (i.e., continuous quantities) with some degree of precision."
      ]
    },
    {
      "cell_type": "markdown",
      "metadata": {
        "id": "YnHgMcOBzl_z"
      },
      "source": [
        "Similarly, create an array with all data values initialised to zero."
      ]
    },
    {
      "cell_type": "code",
      "execution_count": null,
      "metadata": {
        "id": "xIVtPVk9OEO8"
      },
      "outputs": [],
      "source": [
        "zeros = np.zeros(3)\n",
        "zeros"
      ]
    },
    {
      "cell_type": "markdown",
      "metadata": {
        "id": "vaPcZy1Azqxb"
      },
      "source": [
        "Create an array with data values initialised using a random number generator."
      ]
    },
    {
      "cell_type": "code",
      "execution_count": null,
      "metadata": {
        "id": "XFJxImHaOIXP"
      },
      "outputs": [],
      "source": [
        "foo = np.random.random(3)\n",
        "foo"
      ]
    },
    {
      "cell_type": "markdown",
      "metadata": {
        "id": "mgfPoHDkzxQD"
      },
      "source": [
        "Here are visual illustrations of the three arrays we just created."
      ]
    },
    {
      "cell_type": "markdown",
      "metadata": {
        "id": "_6vhDMWtOKvQ"
      },
      "source": [
        "<img src=\"https://numpy.org/doc/stable/_images/np_ones_zeros_random.png\"></img>"
      ]
    },
    {
      "cell_type": "markdown",
      "metadata": {
        "id": "KdMHV5F27_xy"
      },
      "source": [
        "**Exercise 1**\n",
        "\n",
        "Uncomment and run the code cells below to answer the following questions.\n",
        "\n",
        "What is the number of dimensions of the `foo` array we created above?\n",
        "\n",
        "What is the number of items (size) of the `foo` array?\n",
        "\n",
        "What is the shape of the `foo` array?\n",
        "\n",
        "What is the data type of the `foo` array?\n",
        "\n",
        "Create an array of ten zeros.\n",
        "\n",
        "Create an array of one million random numbers.\n"
      ]
    },
    {
      "cell_type": "code",
      "execution_count": null,
      "metadata": {
        "id": "HHkjUXe27_xy"
      },
      "outputs": [],
      "source": [
        "# foo.ndim"
      ]
    },
    {
      "cell_type": "code",
      "execution_count": null,
      "metadata": {
        "id": "lHnSxtOy7_xy"
      },
      "outputs": [],
      "source": [
        "# foo.size"
      ]
    },
    {
      "cell_type": "code",
      "execution_count": null,
      "metadata": {
        "id": "Gcx0w2wP7_xy"
      },
      "outputs": [],
      "source": [
        "# foo.shape"
      ]
    },
    {
      "cell_type": "code",
      "execution_count": null,
      "metadata": {
        "id": "0pRqW_X87_xy"
      },
      "outputs": [],
      "source": [
        "# foo.dtype"
      ]
    },
    {
      "cell_type": "code",
      "execution_count": null,
      "metadata": {
        "id": "rmXmF4uy7_xy"
      },
      "outputs": [],
      "source": [
        "# bar = np.zeros(10)\n",
        "# bar"
      ]
    },
    {
      "cell_type": "code",
      "execution_count": null,
      "metadata": {
        "id": "TPMmsNwx7_xy"
      },
      "outputs": [],
      "source": [
        "# baz = np.random.random(1_000_000)\n",
        "# baz"
      ]
    },
    {
      "cell_type": "markdown",
      "metadata": {
        "id": "awfb2jYTmd5V"
      },
      "source": [
        "### 2-D arrays\n",
        "\n",
        "We can also created 2-D arrays via the same functions, by passing the shape of the desired array as the first parameter.\n",
        "\n",
        "E.g., create an array with three rows and two columns with all data values initialised to one."
      ]
    },
    {
      "cell_type": "code",
      "execution_count": null,
      "metadata": {
        "id": "QmhSadw9N1u7"
      },
      "outputs": [],
      "source": [
        "ones_2d = np.ones((3, 2))\n",
        "ones_2d"
      ]
    },
    {
      "cell_type": "markdown",
      "metadata": {
        "id": "xUu50zbc0ibk"
      },
      "source": [
        "E.g., create an array with three rows and two columns with all data values initialised to zero."
      ]
    },
    {
      "cell_type": "code",
      "execution_count": null,
      "metadata": {
        "id": "3B3PdaCnPv9l"
      },
      "outputs": [],
      "source": [
        "zeros_2d = np.zeros((3, 2))\n",
        "zeros_2d"
      ]
    },
    {
      "cell_type": "markdown",
      "metadata": {
        "id": "sx6bUSr70sWr"
      },
      "source": [
        "E.g., create an array with three rows and two columns, initialised with random numbers."
      ]
    },
    {
      "cell_type": "code",
      "execution_count": null,
      "metadata": {
        "id": "7pMr6IOKPzMv"
      },
      "outputs": [],
      "source": [
        "bar = np.random.random((3, 2))\n",
        "bar"
      ]
    },
    {
      "cell_type": "markdown",
      "metadata": {
        "id": "JJU4psxV0xbe"
      },
      "source": [
        "Here's an illustration of the 2-D arrays we created."
      ]
    },
    {
      "cell_type": "markdown",
      "metadata": {
        "id": "OVDysxxqP2cO"
      },
      "source": [
        "<img src=\"https://numpy.org/doc/stable/_images/np_ones_zeros_matrix.png\"/>"
      ]
    },
    {
      "cell_type": "markdown",
      "metadata": {
        "id": "tIszUawu7_xz"
      },
      "source": [
        "**Exercise 2 (English)**\n",
        "\n",
        "Create a 2-D array of random numbers with 1,000 rows and 500 columns. Check the values of the `ndim`, `size`, `shape` and `dtype` attributes."
      ]
    },
    {
      "cell_type": "markdown",
      "metadata": {
        "id": "Go95PYOeQCSW"
      },
      "source": [
        "## Accessing elements of an array (indexing and slicing)\n",
        "\n",
        "The data values of an array can be accessed by using the square bracket notation. Remember that indices start from zero in Python."
      ]
    },
    {
      "cell_type": "markdown",
      "metadata": {
        "id": "Y2aB3O7HZI3T"
      },
      "source": [
        "### 1-D arrays"
      ]
    },
    {
      "cell_type": "code",
      "execution_count": null,
      "metadata": {
        "id": "nriRtxTEOBt9"
      },
      "outputs": [],
      "source": [
        "data = np.array([1, 2, 3])\n",
        "data"
      ]
    },
    {
      "cell_type": "markdown",
      "metadata": {
        "id": "rkTa4PhwYFbG"
      },
      "source": [
        "<img src=\"https://numpy.org/doc/stable/_images/np_array.png\"></img>"
      ]
    },
    {
      "cell_type": "markdown",
      "metadata": {
        "id": "T7YG72B81HKV"
      },
      "source": [
        "For 1-D arrays, we write a single index in the square brackets.\n",
        "\n",
        "E.g., access the data value in the first element of the array:"
      ]
    },
    {
      "cell_type": "code",
      "execution_count": null,
      "metadata": {
        "id": "6GvCF-sxOG6Q"
      },
      "outputs": [],
      "source": [
        "data[0]"
      ]
    },
    {
      "cell_type": "markdown",
      "metadata": {
        "id": "c0PHm6R41SUS"
      },
      "source": [
        "Access the second element:"
      ]
    },
    {
      "cell_type": "code",
      "execution_count": null,
      "metadata": {
        "id": "lZqN1WhqOH6N"
      },
      "outputs": [],
      "source": [
        "data[1]"
      ]
    },
    {
      "cell_type": "markdown",
      "metadata": {
        "id": "LEPLH8TZ1Ujh"
      },
      "source": [
        "We can also access a contiguous region of an array using the slicing notation, by writing the start and stop indices separated by a colon. Note that this will return a new array. Remember that the start index is included, but the stop index is not.\n",
        "\n",
        "E.g., access the first two elements:"
      ]
    },
    {
      "cell_type": "code",
      "execution_count": null,
      "metadata": {
        "id": "ZEnRpHHlOIc5"
      },
      "outputs": [],
      "source": [
        "data[0:2]"
      ]
    },
    {
      "cell_type": "markdown",
      "metadata": {
        "id": "CDcEcJfh1g07"
      },
      "source": [
        "Access the second and all subsequent elements:"
      ]
    },
    {
      "cell_type": "code",
      "execution_count": null,
      "metadata": {
        "id": "2iB353RbOJZm"
      },
      "outputs": [],
      "source": [
        "data[1:]"
      ]
    },
    {
      "cell_type": "markdown",
      "metadata": {
        "id": "Z34qHq7r1mff"
      },
      "source": [
        "Negative indices can also be used, and count backwards from the end of an array.\n",
        "\n",
        "E.g., access the second from last and all subsequent elements:"
      ]
    },
    {
      "cell_type": "code",
      "execution_count": null,
      "metadata": {
        "id": "BwCImQn1OKNl"
      },
      "outputs": [],
      "source": [
        "data[-2:]"
      ]
    },
    {
      "cell_type": "markdown",
      "metadata": {
        "id": "qrvToOJ51ulq"
      },
      "source": [
        "Here is an illustration of the array we created, and the results of indexing the array in different ways."
      ]
    },
    {
      "cell_type": "markdown",
      "metadata": {
        "id": "m2xIVfODONop"
      },
      "source": [
        "<img src=\"https://numpy.org/doc/stable/_images/np_indexing.png\"/>"
      ]
    },
    {
      "cell_type": "markdown",
      "metadata": {
        "id": "4HtV6dj87_x1"
      },
      "source": [
        "**Exercise 3 **\n",
        "\n",
        "Create a new 1-D array initialized with the data values `[3, 5, 32, 37, 42, 50, 61, 79, 85, 90]`.\n",
        "\n",
        "Using indexing to access the data value in the sixth element of the array.\n",
        "\n",
        "Access the value 32 in the array.\n",
        "\n",
        "Using slicing to access the third, fourth and fifth elements of the array.\n"
      ]
    },
    {
      "cell_type": "markdown",
      "metadata": {
        "id": "ZBQq3WjMZK3p"
      },
      "source": [
        "### 2-D arrays\n",
        "\n",
        "2-D arrays can also be indexed using the square bracket notation. Here, because there are two dimensions, we need to provide two indices, one for each dimension."
      ]
    },
    {
      "cell_type": "code",
      "execution_count": null,
      "metadata": {
        "id": "PeIvS7SKOT_O"
      },
      "outputs": [],
      "source": [
        "data = np.array([[1, 2], [3, 4], [5, 6]])\n",
        "data"
      ]
    },
    {
      "cell_type": "markdown",
      "metadata": {
        "id": "R_LNPHQLX4r3"
      },
      "source": [
        "<img src=\"https://numpy.org/doc/stable/_images/np_create_matrix.png\"/>"
      ]
    },
    {
      "cell_type": "markdown",
      "metadata": {
        "id": "WfLnpg4V2DWw"
      },
      "source": [
        "E.g., access the data value in the first row, second column:"
      ]
    },
    {
      "cell_type": "code",
      "execution_count": null,
      "metadata": {
        "id": "joJpQNFtYRTb"
      },
      "outputs": [],
      "source": [
        "data[0, 1]"
      ]
    },
    {
      "cell_type": "markdown",
      "metadata": {
        "id": "Pd6X8ikq2HFr"
      },
      "source": [
        "We can also slice 2-D arrays.\n",
        "\n",
        "E.g., access the second and all subsequent rows, and all columns:"
      ]
    },
    {
      "cell_type": "code",
      "execution_count": null,
      "metadata": {
        "id": "qVfIg6PBYTM8"
      },
      "outputs": [],
      "source": [
        "data[1:3]"
      ]
    },
    {
      "cell_type": "markdown",
      "metadata": {
        "id": "7Oq9LT09Tdhi"
      },
      "source": [
        "To be more explicit, we could also provide the slice we require along the second dimension, i.e., all columns:"
      ]
    },
    {
      "cell_type": "code",
      "execution_count": null,
      "metadata": {
        "id": "aPiaCS6Q9606"
      },
      "outputs": [],
      "source": [
        "data[1:3, :]"
      ]
    },
    {
      "cell_type": "markdown",
      "metadata": {
        "id": "BV1vcgd92LKq"
      },
      "source": [
        "Access the first two rows, first column:"
      ]
    },
    {
      "cell_type": "code",
      "execution_count": null,
      "metadata": {
        "id": "8Kn_nAu_YUtQ"
      },
      "outputs": [],
      "source": [
        "data[0:2, 0]"
      ]
    },
    {
      "cell_type": "markdown",
      "metadata": {
        "id": "St_bXl4x2OrJ"
      },
      "source": [
        "Here's an illustration of these indexing operations on a 2-D array:"
      ]
    },
    {
      "cell_type": "markdown",
      "metadata": {
        "id": "7yv5k32hYXhJ"
      },
      "source": [
        "<img src=\"https://numpy.org/doc/stable/_images/np_matrix_indexing.png\"/>"
      ]
    },
    {
      "cell_type": "markdown",
      "metadata": {
        "id": "u3vcSIgi7_x4"
      },
      "source": [
        "**Exercise 4**\n",
        "\n",
        "Create a new 2-D array initialised with the data values `[[0, 5, 23], [37, 42, 54], [61, 79, 88]]`.\n",
        "\n",
        "Use indexing to access the data value in second row, third column of the array.\n",
        "\n",
        "Use slicing to access the first and second rows of the array.\n",
        "\n",
        "Access the last two values in the second column of the array.\n"
      ]
    },
    {
      "cell_type": "markdown",
      "metadata": {
        "id": "gmUr7sRlYbT3"
      },
      "source": [
        "## Basic mathematical operations with arrays\n",
        "\n",
        "One of the most powerful features of NumPy arrays is that you can use them to perform mathematical operations. In particular, you can apply mathematical operations between entire arrays, without having to write any `for` loops. Let's see this in action."
      ]
    },
    {
      "cell_type": "markdown",
      "metadata": {
        "id": "wbn0J1GjbLCc"
      },
      "source": [
        "### 1-D arrays\n",
        "\n",
        "To demonstrate, let's create two arrays."
      ]
    },
    {
      "cell_type": "code",
      "execution_count": null,
      "metadata": {
        "id": "lhlgJLq3ZaGh"
      },
      "outputs": [],
      "source": [
        "data = np.array([1, 2])\n",
        "ones = np.ones(2)"
      ]
    },
    {
      "cell_type": "markdown",
      "metadata": {
        "id": "-biCC58QZdcs"
      },
      "source": [
        "<img src=\"https://numpy.org/doc/stable/_images/np_array_dataones.png\"/>"
      ]
    },
    {
      "cell_type": "markdown",
      "metadata": {
        "id": "Mo_ZDoXS8xSP"
      },
      "source": [
        "Now, add these two arrays together."
      ]
    },
    {
      "cell_type": "code",
      "execution_count": null,
      "metadata": {
        "id": "IZ2dmw-eZgU4"
      },
      "outputs": [],
      "source": [
        "result = data + ones\n",
        "result"
      ]
    },
    {
      "cell_type": "markdown",
      "metadata": {
        "id": "bOKOuaVm83G_"
      },
      "source": [
        "Each element of the `data` array has been added to each element of the `ones` array, to create a new array that we've assigned to the variable named `result`. This is an example of an elementwise computation that NumPy performs for us.\n",
        "\n",
        "Here's an illustration of this computation:"
      ]
    },
    {
      "cell_type": "markdown",
      "metadata": {
        "id": "R4ODsQr7Zir_"
      },
      "source": [
        "<img src=\"https://numpy.org/doc/stable/_images/np_data_plus_ones.png\"/>"
      ]
    },
    {
      "cell_type": "markdown",
      "metadata": {
        "id": "QjVtOgDC9U3Q"
      },
      "source": [
        "Similarly, we can subtract, multiply and divide arrays."
      ]
    },
    {
      "cell_type": "code",
      "execution_count": null,
      "metadata": {
        "id": "JjRK8TeBZn08"
      },
      "outputs": [],
      "source": [
        "data - ones"
      ]
    },
    {
      "cell_type": "code",
      "execution_count": null,
      "metadata": {
        "id": "jLu-aB6cZuio"
      },
      "outputs": [],
      "source": [
        "data * data"
      ]
    },
    {
      "cell_type": "code",
      "execution_count": null,
      "metadata": {
        "id": "n6ZmOISrZv-c"
      },
      "outputs": [],
      "source": [
        "data / data"
      ]
    },
    {
      "cell_type": "markdown",
      "metadata": {
        "id": "aO5NPxA7Zxo2"
      },
      "source": [
        "<img src=\"https://numpy.org/doc/stable/_images/np_sub_mult_divide.png\"/>"
      ]
    },
    {
      "cell_type": "markdown",
      "metadata": {
        "id": "lKiAkG2-9v3v"
      },
      "source": [
        "You can also perform arithmetic between arrays and a single number (also known as a scalar). E.g., multiply all values in the `data` array by the number 1.6:"
      ]
    },
    {
      "cell_type": "code",
      "execution_count": null,
      "metadata": {
        "id": "Ki_Zg2CLZ1EX"
      },
      "outputs": [],
      "source": [
        "data * 1.6"
      ]
    },
    {
      "cell_type": "markdown",
      "metadata": {
        "id": "BeUy9KmF95X5"
      },
      "source": [
        "Here, NumPy has guessed that we want to multiply each element of the `data` array. Do it has \"broadcast\" the scalar value 1.6 to an array of the same shape as `data`. This is an illustration of what happened:"
      ]
    },
    {
      "cell_type": "markdown",
      "metadata": {
        "id": "TtZp7WojaF-8"
      },
      "source": [
        "<img src=\"https://numpy.org/doc/stable/_images/np_multiply_broadcasting.png\"/>"
      ]
    },
    {
      "cell_type": "markdown",
      "metadata": {
        "id": "JA1av9fw-G5l"
      },
      "source": [
        "As well as arithmetic, you can also perform comparisons. E.g., compute all values in the `data` array that are greater than one:"
      ]
    },
    {
      "cell_type": "code",
      "execution_count": null,
      "metadata": {
        "id": "q3IgyT182fiM"
      },
      "outputs": [],
      "source": [
        "result = data > 1\n",
        "result"
      ]
    },
    {
      "cell_type": "markdown",
      "metadata": {
        "id": "DCF4xkYT-QX8"
      },
      "source": [
        "Note that the result is an array of Boolean values (either True or False)."
      ]
    },
    {
      "cell_type": "code",
      "execution_count": null,
      "metadata": {
        "id": "CQfvLWJA-V17"
      },
      "outputs": [],
      "source": [
        "result.dtype"
      ]
    },
    {
      "cell_type": "markdown",
      "metadata": {
        "id": "1aOUt2SDbNwl"
      },
      "source": [
        "### 2-D arrays\n",
        "\n",
        "All of the same mathematical operations can be performed with 2-D arrays as well.\n",
        "\n",
        "E.g., add two arrays:"
      ]
    },
    {
      "cell_type": "code",
      "execution_count": null,
      "metadata": {
        "id": "kJKqkzsWbOyS"
      },
      "outputs": [],
      "source": [
        "data = np.array([[1, 2], [3, 4]])\n",
        "ones = np.ones((2, 2))\n",
        "data + ones"
      ]
    },
    {
      "cell_type": "markdown",
      "metadata": {
        "id": "LqhiGJAubWMz"
      },
      "source": [
        "<img src=\"https://numpy.org/doc/stable/_images/np_matrix_arithmetic.png\"/>"
      ]
    },
    {
      "cell_type": "markdown",
      "metadata": {
        "id": "0SA3Biah-hym"
      },
      "source": [
        "E.g., multiply an  array by a scalar:"
      ]
    },
    {
      "cell_type": "code",
      "execution_count": null,
      "metadata": {
        "id": "6fcK_TZzbcvm"
      },
      "outputs": [],
      "source": [
        "data * 1.6"
      ]
    },
    {
      "cell_type": "markdown",
      "metadata": {
        "id": "kAYvJJj7-k5O"
      },
      "source": [
        "E.g., compare an array with a scalar:"
      ]
    },
    {
      "cell_type": "code",
      "execution_count": null,
      "metadata": {
        "id": "pPhLfTHF2kSl"
      },
      "outputs": [],
      "source": [
        "data > 1"
      ]
    },
    {
      "cell_type": "markdown",
      "metadata": {
        "id": "CkWrv0pD7_x6"
      },
      "source": [
        "**Exercise 5**\n",
        "\n",
        "Create a new array initialised with the data values `[[0, 5, 23], [37, 42, 54], [61, 79, 88]]`.\n",
        "\n",
        "Multiply this array by itself.\n",
        "\n",
        "Add one to every element of this array.\n"
      ]
    },
    {
      "cell_type": "markdown",
      "metadata": {
        "id": "uu8v0wfZaJer"
      },
      "source": [
        "## Aggregations\n",
        "\n",
        "NumPy also provides some aggregation functions, including `max()`, `min()`, `sum()`, and `count_nonzero()`, which you can use with arrays.\n",
        "\n",
        "Note that `max()`, `min()` and `sum()` can be called in two different ways: either as methods of an array, or as a function."
      ]
    },
    {
      "cell_type": "markdown",
      "metadata": {
        "id": "_7VHw2rOa3cZ"
      },
      "source": [
        "### 1-D arrays\n",
        "\n",
        "Here are examples of aggregation functions used with a 1-D array."
      ]
    },
    {
      "cell_type": "code",
      "execution_count": null,
      "metadata": {
        "id": "yoHju24HabiY"
      },
      "outputs": [],
      "source": [
        "data = np.array([1, 2, 3])"
      ]
    },
    {
      "cell_type": "code",
      "execution_count": null,
      "metadata": {
        "id": "iAmqdT0jaky7"
      },
      "outputs": [],
      "source": [
        "data.max()"
      ]
    },
    {
      "cell_type": "code",
      "execution_count": null,
      "metadata": {
        "id": "IE3gMna4br6w"
      },
      "outputs": [],
      "source": [
        "np.max(data)"
      ]
    },
    {
      "cell_type": "code",
      "execution_count": null,
      "metadata": {
        "id": "5Zl8bHZyalvg"
      },
      "outputs": [],
      "source": [
        "data.min()"
      ]
    },
    {
      "cell_type": "code",
      "execution_count": null,
      "metadata": {
        "id": "OPz27potamTI"
      },
      "outputs": [],
      "source": [
        "data.sum()"
      ]
    },
    {
      "cell_type": "markdown",
      "metadata": {
        "id": "K_VMXBl_am-o"
      },
      "source": [
        "<img src=\"https://numpy.org/doc/stable/_images/np_aggregation.png\"/>"
      ]
    },
    {
      "cell_type": "code",
      "execution_count": null,
      "metadata": {
        "id": "HW8CXnJs2vU8"
      },
      "outputs": [],
      "source": [
        "data > 1"
      ]
    },
    {
      "cell_type": "code",
      "execution_count": null,
      "metadata": {
        "id": "KG79Yj4A2w2w"
      },
      "outputs": [],
      "source": [
        "np.count_nonzero(data > 1)"
      ]
    },
    {
      "cell_type": "markdown",
      "metadata": {
        "id": "PdILVV-Za7Ci"
      },
      "source": [
        "### 2-D arrays\n",
        "\n",
        "Here are examples of aggregation functions used with a 2-D array."
      ]
    },
    {
      "cell_type": "code",
      "execution_count": null,
      "metadata": {
        "id": "HzF4r-zvatRQ"
      },
      "outputs": [],
      "source": [
        "data = np.array([[1, 2], [3, 4], [5, 6]])\n",
        "data"
      ]
    },
    {
      "cell_type": "code",
      "execution_count": null,
      "metadata": {
        "id": "MUyXKAd-a2zj"
      },
      "outputs": [],
      "source": [
        "data.max()"
      ]
    },
    {
      "cell_type": "code",
      "execution_count": null,
      "metadata": {
        "id": "aPalAsaKa9wg"
      },
      "outputs": [],
      "source": [
        "data.min()"
      ]
    },
    {
      "cell_type": "code",
      "execution_count": null,
      "metadata": {
        "id": "WFr6TRmFa-M4"
      },
      "outputs": [],
      "source": [
        "data.sum()"
      ]
    },
    {
      "cell_type": "markdown",
      "metadata": {
        "id": "LsotaOKba-wI"
      },
      "source": [
        "<img src=\"https://numpy.org/doc/stable/_images/np_matrix_aggregation.png\"/>"
      ]
    },
    {
      "cell_type": "markdown",
      "metadata": {
        "id": "CipeNaya_P1w"
      },
      "source": [
        "The `axis` parameter can also be used here to perform aggregation along a dimension of an array."
      ]
    },
    {
      "cell_type": "code",
      "execution_count": null,
      "metadata": {
        "id": "zBl1-YnlbCJT"
      },
      "outputs": [],
      "source": [
        "data.max(axis=0)"
      ]
    },
    {
      "cell_type": "code",
      "execution_count": null,
      "metadata": {
        "id": "Jd5xVRuVbxgb"
      },
      "outputs": [],
      "source": [
        "data.max(axis=1)"
      ]
    },
    {
      "cell_type": "markdown",
      "metadata": {
        "id": "4Yu2O7lIb96Q"
      },
      "source": [
        "<img src=\"https://numpy.org/doc/stable/_images/np_matrix_aggregation_row.png\"/>"
      ]
    },
    {
      "cell_type": "code",
      "execution_count": null,
      "metadata": {
        "id": "ufjOyYVc24kY"
      },
      "outputs": [],
      "source": [
        "data > 1"
      ]
    },
    {
      "cell_type": "code",
      "execution_count": null,
      "metadata": {
        "id": "mGQfo2nt25Uy"
      },
      "outputs": [],
      "source": [
        "np.count_nonzero(data > 1)"
      ]
    },
    {
      "cell_type": "code",
      "execution_count": null,
      "metadata": {
        "id": "XBmm1PK228Kd"
      },
      "outputs": [],
      "source": [
        "np.count_nonzero(data > 1, axis=1)"
      ]
    },
    {
      "cell_type": "markdown",
      "metadata": {
        "id": "iu5Y6NyT7_x8"
      },
      "source": [
        "**Exercise 6**\n",
        "\n",
        "Create a 2-D array of random numbers with 4 rows and 3 columns.\n",
        "\n",
        "Multiply the array by 10.\n",
        "\n",
        "Find the maximum, minimum and sum of the array.\n",
        "\n",
        "Find the maximum value in each row.\n",
        "\n",
        "Find the minimum value in each column.\n"
      ]
    },
    {
      "cell_type": "markdown",
      "metadata": {
        "id": "jlrhPpvCcBLA"
      },
      "source": [
        "## Working with mathematical formulas\n",
        "\n",
        "NumPy can be used to implement mathematical formulas and perform some computation over data of any size.\n",
        "\n",
        "For example, here is a formula for computing mean square error."
      ]
    },
    {
      "cell_type": "markdown",
      "metadata": {
        "id": "5e9D7jrHcfto"
      },
      "source": [
        "<img src=\"https://numpy.org/doc/stable/_images/np_MSE_formula.png\"/>"
      ]
    },
    {
      "cell_type": "markdown",
      "metadata": {
        "id": "ClzPEILZ_k09"
      },
      "source": [
        "To illustrate how we would implement this with NumPy, let's create some data:"
      ]
    },
    {
      "cell_type": "code",
      "execution_count": null,
      "metadata": {
        "id": "sPqULeBzcmHD"
      },
      "outputs": [],
      "source": [
        "predictions = np.array([1, 1, 1])\n",
        "predictions"
      ]
    },
    {
      "cell_type": "code",
      "execution_count": null,
      "metadata": {
        "id": "ipfddTVxctJQ"
      },
      "outputs": [],
      "source": [
        "labels = np.array([1, 2, 3])\n",
        "labels"
      ]
    },
    {
      "cell_type": "markdown",
      "metadata": {
        "id": "2EZVniPl_2me"
      },
      "source": [
        "Now implement the formula to compute the mean square error between `predictions` and `labels`:"
      ]
    },
    {
      "cell_type": "code",
      "execution_count": null,
      "metadata": {
        "id": "qfd4upHPc05Y"
      },
      "outputs": [],
      "source": [
        "n = predictions.size\n",
        "error = (1/n) * np.sum(np.square(predictions - labels))\n",
        "error"
      ]
    },
    {
      "cell_type": "markdown",
      "metadata": {
        "id": "3wUDavZk_8AP"
      },
      "source": [
        "Here is a visual illustration of how NumPy performs this computation internally."
      ]
    },
    {
      "cell_type": "markdown",
      "metadata": {
        "id": "QQ_KMVe_dBjQ"
      },
      "source": [
        "<img src=\"https://numpy.org/doc/stable/_images/np_MSE_implementation.png\"/>\n",
        "\n",
        "<img src=\"https://numpy.org/doc/stable/_images/np_mse_viz1.png\"/>\n",
        "\n",
        "<img src=\"https://numpy.org/doc/stable/_images/np_mse_viz2.png\"/>\n",
        "\n",
        "<img src=\"https://numpy.org/doc/stable/_images/np_MSE_explanation2.png\"/>"
      ]
    },
    {
      "cell_type": "markdown",
      "metadata": {
        "id": "DzDKTbCvAITU"
      },
      "source": [
        "In fact, there is an even simpler way we could compute this, using the `np.mean()` function:"
      ]
    },
    {
      "cell_type": "code",
      "execution_count": null,
      "metadata": {
        "id": "YZC9H3RGAJhE"
      },
      "outputs": [],
      "source": [
        "error = np.mean(np.square(predictions - labels))\n",
        "error"
      ]
    },
    {
      "cell_type": "markdown",
      "metadata": {
        "id": "T_v7hShxAO99"
      },
      "source": [
        "Of course, the best part about this is, it doesn't matter how much data we have - we could pass arrays of any size into this computation."
      ]
    },
    {
      "cell_type": "markdown",
      "metadata": {
        "id": "hNdd8udZdbkz"
      },
      "source": [
        "## Data types (dtypes)\n",
        "\n",
        "Finally, let's take a very brief look at some of the different data types that NumPy supports."
      ]
    },
    {
      "cell_type": "markdown",
      "metadata": {
        "id": "tOb90HevAdN1"
      },
      "source": [
        "At the beginning of this module, we created an array from some existing data values using `np.array()`."
      ]
    },
    {
      "cell_type": "code",
      "execution_count": null,
      "metadata": {
        "id": "SefHR1TPdt4o"
      },
      "outputs": [],
      "source": [
        "data = np.array([1, 2, 3])\n",
        "data"
      ]
    },
    {
      "cell_type": "markdown",
      "metadata": {
        "id": "-RCwKCgFAl4E"
      },
      "source": [
        "Because of the data values we provided, NumPy chose an integer data type for us:"
      ]
    },
    {
      "cell_type": "code",
      "execution_count": null,
      "metadata": {
        "id": "lNqTQQQ0d8ix"
      },
      "outputs": [],
      "source": [
        "data.dtype"
      ]
    },
    {
      "cell_type": "markdown",
      "metadata": {
        "id": "TAFqprvqAquH"
      },
      "source": [
        "Earlier, we created an array of zeros using the `np.zeros()` function."
      ]
    },
    {
      "cell_type": "code",
      "execution_count": null,
      "metadata": {
        "id": "s9VY75qnd9mw"
      },
      "outputs": [],
      "source": [
        "zeros = np.zeros(3)\n",
        "zeros"
      ]
    },
    {
      "cell_type": "markdown",
      "metadata": {
        "id": "ZXkHoHioAveF"
      },
      "source": [
        "By default, NumPy created this array with a floating-point data type:"
      ]
    },
    {
      "cell_type": "code",
      "execution_count": null,
      "metadata": {
        "id": "ynVBmnJzeBy4"
      },
      "outputs": [],
      "source": [
        "zeros.dtype"
      ]
    },
    {
      "cell_type": "markdown",
      "metadata": {
        "id": "V7ulRk5SA5YH"
      },
      "source": [
        "If we knew we only wanted to store whole numbers, we could have used the `dtype` parameter to override the default, e.g.:"
      ]
    },
    {
      "cell_type": "code",
      "execution_count": null,
      "metadata": {
        "id": "61UDvJhkgAlo"
      },
      "outputs": [],
      "source": [
        "zeros = np.zeros(3, dtype=np.int64)\n",
        "zeros"
      ]
    },
    {
      "cell_type": "code",
      "execution_count": null,
      "metadata": {
        "id": "KP8Y5FBD3b9K"
      },
      "outputs": [],
      "source": [
        "zeros.dtype"
      ]
    },
    {
      "cell_type": "markdown",
      "metadata": {
        "id": "i3X2nMFsBD5U"
      },
      "source": [
        "Here are all of the integer data types that NumPy supports, along with the range of possible data values for each:"
      ]
    },
    {
      "cell_type": "markdown",
      "metadata": {
        "id": "45AVmmRGfssU"
      },
      "source": [
        "<img src=\"https://miro.medium.com/max/1400/1*XDBcGPOkqTGd5C7DuRrAiw.png\"/>"
      ]
    },
    {
      "cell_type": "markdown",
      "metadata": {
        "id": "rYzIg1pIBPF2"
      },
      "source": [
        "Here are all of the floating-point data types that NumPy currently supports, along with the range of possible data values for each:"
      ]
    },
    {
      "cell_type": "markdown",
      "metadata": {
        "id": "UcJ-L-aue_MA"
      },
      "source": [
        "<img src=\"https://miro.medium.com/max/1400/1*aXnGirp9NLC5oljJ5wGcyA.png\"/>"
      ]
    },
    {
      "cell_type": "markdown",
      "metadata": {
        "id": "ohVE_Oi6BX5_"
      },
      "source": [
        "## Further reading\n",
        "\n",
        "Please see the [NumPy website](https://numpy.org/doc/stable/index.html) for a more complete introduction to NumPy and links to other tutorials and documentation.\n",
        "\n",
        "For more information about data types, see also [NumPy data types](https://numpy.org/doc/stable/user/basics.types.html) and [A comprehensive guide to NumPy data types](https://betterprogramming.pub/a-comprehensive-guide-to-numpy-data-types-8f62cb57ea83) by Lex Maximov."
      ]
    }
  ],
  "metadata": {
    "celltoolbar": "Tags",
    "colab": {
      "provenance": [],
      "include_colab_link": true
    },
    "kernelspec": {
      "display_name": "developer-developer-training-nb-maintenance-mgen-7.11.0",
      "language": "python",
      "name": "conda-env-developer-developer-training-nb-maintenance-mgen-7.11.0-py"
    },
    "language_info": {
      "codemirror_mode": {
        "name": "ipython",
        "version": 3
      },
      "file_extension": ".py",
      "mimetype": "text/x-python",
      "name": "python",
      "nbconvert_exporter": "python",
      "pygments_lexer": "ipython3",
      "version": "3.10.11"
    }
  },
  "nbformat": 4,
  "nbformat_minor": 0
}