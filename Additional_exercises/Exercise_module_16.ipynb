{
  "nbformat": 4,
  "nbformat_minor": 0,
  "metadata": {
    "colab": {
      "provenance": [],
      "authorship_tag": "ABX9TyNTKXNgR9h95cmvK4MyZlze",
      "include_colab_link": true
    },
    "kernelspec": {
      "name": "python3",
      "display_name": "Python 3"
    },
    "language_info": {
      "name": "python"
    }
  },
  "cells": [
    {
      "cell_type": "markdown",
      "metadata": {
        "id": "view-in-github",
        "colab_type": "text"
      },
      "source": [
        "<a href=\"https://colab.research.google.com/github/carighi/al_ml_workshop/blob/main/Exercise_module_16.ipynb\" target=\"_parent\"><img src=\"https://colab.research.google.com/assets/colab-badge.svg\" alt=\"Open In Colab\"/></a>"
      ]
    },
    {
      "cell_type": "code",
      "execution_count": 1,
      "metadata": {
        "colab": {
          "base_uri": "https://localhost:8080/"
        },
        "id": "NUyL4TRqXH9x",
        "outputId": "e9bedc32-d7be-4266-ced1-0d4d09d17580"
      },
      "outputs": [
        {
          "output_type": "stream",
          "name": "stdout",
          "text": [
            "Imageio: 'immunohistochemistry.png' was not found on your computer; downloading it now.\n",
            "Try 1. Download from https://github.com/imageio/imageio-binaries/raw/master/images/immunohistochemistry.png (459 kB)\n",
            "Downloading: 8192/470201 bytes (1.7%)\b\b\b\b\b\b\b\b\b\b\b\b\b\b\b\b\b\b\b\b\b\b\b\b470201/470201 bytes (100.0%)\n",
            "  Done\n",
            "File saved as /root/.imageio/images/immunohistochemistry.png.\n"
          ]
        },
        {
          "output_type": "execute_result",
          "data": {
            "text/plain": [
              "(512, 512, 3)"
            ]
          },
          "metadata": {},
          "execution_count": 1
        }
      ],
      "source": [
        "#getting the imageio latest version\n",
        "import numpy as np\n",
        "import imageio.v3 as iio\n",
        "import matplotlib.pyplot as plt\n",
        "# to read image from imageio standard image collection\n",
        "hic = iio.imread('imageio:immunohistochemistry.png')\n",
        "hic.shape"
      ]
    }
  ]
}