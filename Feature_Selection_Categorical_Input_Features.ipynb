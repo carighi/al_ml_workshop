{
  "nbformat": 4,
  "nbformat_minor": 0,
  "metadata": {
    "colab": {
      "provenance": [],
      "private_outputs": true,
      "include_colab_link": true
    },
    "kernelspec": {
      "name": "python3",
      "display_name": "Python 3"
    },
    "language_info": {
      "name": "python"
    }
  },
  "cells": [
    {
      "cell_type": "markdown",
      "metadata": {
        "id": "view-in-github",
        "colab_type": "text"
      },
      "source": [
        "<a href=\"https://colab.research.google.com/github/carighi/al_ml_workshop/blob/main/Feature_Selection_Categorical_Input_Features.ipynb\" target=\"_parent\"><img src=\"https://colab.research.google.com/assets/colab-badge.svg\" alt=\"Open In Colab\"/></a>"
      ]
    },
    {
      "cell_type": "markdown",
      "source": [
        "#**Select Categorical Input Features**"
      ],
      "metadata": {
        "id": "87Ga7S2Ev6tl"
      }
    },
    {
      "cell_type": "markdown",
      "source": [
        "#What is Feature Selection?\n",
        "Feature selection is the process of identifying and selecting a subset of input features that are\n",
        "most relevant to the target variable. Feature selection is often straightforward when working\n",
        "with real-valued data, such as using the Pearson's correlation coefficient, but can be challenging\n",
        "when working with categorical data. The two most commonly used feature selection methods for\n",
        "categorical input data when the target variable is also categorical (e.g. classification predictive\n",
        "modeling) are the chi-squared statistic and the mutual information statistic."
      ],
      "metadata": {
        "id": "2_FqA3LR-fSO"
      }
    },
    {
      "cell_type": "markdown",
      "source": [
        "In this tutorial,\n",
        "you will discover how to perform feature selection with categorical input data. After completing\n",
        "this tutorial, you will know:\n",
        "* The breast cancer predictive modeling problem with categorical inputs and binary classification target variable.\n",
        "* How to evaluate the importance of categorical features using the chi-squared and mutual\n",
        "information statistics.\n",
        "* How to perform feature selection for categorical data when  fitting and evaluating a\n",
        "classification model.\n",
        "\n",
        "Adapted from Jason Brownlee. 2020. [Data Preparation for Machine Learning](https://machinelearningmastery.com/data-preparation-for-machine-learning/).\n",
        "\n"
      ],
      "metadata": {
        "id": "7tas6to0FHB_"
      }
    },
    {
      "cell_type": "markdown",
      "source": [
        "##Breast Cancer Categorical Dataset\n",
        "Breast cancer dataset classifies breast cancer\n",
        "patient data as either a recurrence or no recurrence of cancer. There are 286 examples and nine\n",
        "input variables.\n",
        "\n",
        "You can learn more about the dataset here:\n",
        "* Breast Cancer Dataset ([breast-cancer.csv](https://raw.githubusercontent.com/jbrownlee/Datasets/master/breast-cancer.csv))\n",
        "* Breast Cancer Dataset Description ([breast-cancer.names](https://raw.githubusercontent.com/jbrownlee/Datasets/master/breast-cancer.names))\n",
        "\n"
      ],
      "metadata": {
        "id": "D4d-n0S4XutV"
      }
    },
    {
      "cell_type": "markdown",
      "source": [
        "###Download Breast Cancer data files"
      ],
      "metadata": {
        "id": "n2JhHLdXXw6a"
      }
    },
    {
      "cell_type": "code",
      "source": [
        "!wget \"https://raw.githubusercontent.com/jbrownlee/Datasets/master/breast-cancer.csv\" -O breast-cancer.csv\n",
        "!wget \"https://raw.githubusercontent.com/jbrownlee/Datasets/master/breast-cancer.names\" -O breast-cancer.names\n",
        "!head breast-cancer.csv"
      ],
      "metadata": {
        "id": "9gHc_HZlGBAV"
      },
      "execution_count": null,
      "outputs": []
    },
    {
      "cell_type": "markdown",
      "source": [
        "###Loading and encoding the categorical dataset"
      ],
      "metadata": {
        "id": "B5AfnrYeHAaP"
      }
    },
    {
      "cell_type": "code",
      "source": [
        "# example of loading and preparing the breast cancer dataset\n",
        "from pandas import read_csv\n",
        "from sklearn.model_selection import train_test_split\n",
        "from sklearn.preprocessing import LabelEncoder\n",
        "from sklearn.preprocessing import OrdinalEncoder\n",
        "\n",
        "# load the dataset\n",
        "def load_dataset(filename):\n",
        "  # load the dataset\n",
        "  data = read_csv(filename, header=None)\n",
        "  # retrieve array\n",
        "  dataset = data.values\n",
        "  # split into input and output variables\n",
        "  X = dataset[:, :-1]\n",
        "  y = dataset[:,-1]\n",
        "  # format all fields as string\n",
        "  X = X.astype(str)\n",
        "  return X, y\n",
        "\n",
        "# prepare input data\n",
        "def prepare_inputs(X_train, X_test):\n",
        "  oe = OrdinalEncoder() # encode each variable to integers\n",
        "  oe.fit(X_train)\n",
        "  X_train_enc = oe.transform(X_train)\n",
        "  X_test_enc = oe.transform(X_test)\n",
        "  return X_train_enc, X_test_enc\n",
        "\n",
        "# prepare target\n",
        "def prepare_targets(y_train, y_test):\n",
        "  le = LabelEncoder() # LabelEncoder is designed for encoding a single variable\n",
        "  le.fit(y_train)\n",
        "  y_train_enc = le.transform(y_train)\n",
        "  y_test_enc = le.transform(y_test)\n",
        "  return y_train_enc, y_test_enc\n",
        "\n",
        "# load the dataset\n",
        "X, y = load_dataset('breast-cancer.csv')\n",
        "# split into train and test sets\n",
        "X_train, X_test, y_train, y_test = train_test_split(X, y, test_size=0.33, random_state=1)\n",
        "# prepare input data\n",
        "X_train_enc, X_test_enc = prepare_inputs(X_train, X_test)\n",
        "# prepare output data\n",
        "y_train_enc, y_test_enc = prepare_targets(y_train, y_test)\n",
        "# summarize\n",
        "print('Train', X_train_enc.shape, y_train_enc.shape)\n",
        "print('Test', X_test_enc.shape, y_test_enc.shape)"
      ],
      "metadata": {
        "id": "DqkZy4ECGrFi"
      },
      "execution_count": null,
      "outputs": []
    },
    {
      "cell_type": "markdown",
      "source": [
        "We can see that we have 191 examples for training and 95 for testing."
      ],
      "metadata": {
        "id": "rDT_A4E0O5Wt"
      }
    },
    {
      "cell_type": "markdown",
      "source": [
        "##Categorical Feature Selection\n",
        "There are two popular feature selection techniques that can be used for categorical input data\n",
        "and a categorical (class) target variable. They are:\n",
        "* Chi-Squared Statistic.\n",
        "* Mutual Information Statistic.\n",
        "\n"
      ],
      "metadata": {
        "id": "0RxVkoqoIdHF"
      }
    },
    {
      "cell_type": "markdown",
      "source": [
        "###**Chi-Squared Feature Selection**\n",
        "Pearson's chi-squared statistical hypothesis\n",
        "test is an example of a test for independence between categorical variables. The results of this\n",
        "test can be used for feature selection, where those features that are independent of the target\n",
        "variable can be removed from the dataset."
      ],
      "metadata": {
        "id": "Tpe-udsGOyeZ"
      }
    },
    {
      "cell_type": "code",
      "source": [
        "# example of chi squared feature selection for categorical data\n",
        "from pandas import read_csv\n",
        "from sklearn.model_selection import train_test_split\n",
        "from sklearn.preprocessing import LabelEncoder\n",
        "from sklearn.preprocessing import OrdinalEncoder\n",
        "from sklearn.feature_selection import SelectKBest\n",
        "from sklearn.feature_selection import chi2\n",
        "from matplotlib import pyplot\n",
        "\n",
        "# load the dataset\n",
        "def load_dataset(filename):\n",
        "  # load the dataset as a pandas DataFrame\n",
        "  data = read_csv(filename, header=None)\n",
        "  # retrieve numpy array\n",
        "  dataset = data.values\n",
        "  # split into input (X) and output (y) variables\n",
        "  X = dataset[:, :-1]\n",
        "  y = dataset[:,-1]\n",
        "  # format all fields as string\n",
        "  X = X.astype(str)\n",
        "  return X, y\n",
        "\n",
        "# prepare input data\n",
        "def prepare_inputs(X_train, X_test):\n",
        "  oe = OrdinalEncoder()\n",
        "  oe.fit(X_train)\n",
        "  X_train_enc = oe.transform(X_train)\n",
        "  X_test_enc = oe.transform(X_test)\n",
        "  return X_train_enc, X_test_enc\n",
        "\n",
        "# prepare target\n",
        "def prepare_targets(y_train, y_test):\n",
        "  le = LabelEncoder()\n",
        "  le.fit(y_train)\n",
        "  y_train_enc = le.transform(y_train)\n",
        "  y_test_enc = le.transform(y_test)\n",
        "  return y_train_enc, y_test_enc\n",
        "\n",
        "# feature selection\n",
        "def select_features(X_train, y_train, X_test):\n",
        "  # Select features according to the k highest scores.\n",
        "  fs = SelectKBest(score_func=chi2, k='all')\n",
        "  fs.fit(X_train, y_train)\n",
        "  X_train_fs = fs.transform(X_train)\n",
        "  X_test_fs = fs.transform(X_test)\n",
        "  return X_train_fs, X_test_fs, fs\n",
        "\n",
        "# load the dataset\n",
        "X, y = load_dataset('breast-cancer.csv')\n",
        "# split into train and test sets\n",
        "X_train, X_test, y_train, y_test = train_test_split(X, y, test_size=0.33, random_state=1)\n",
        "# prepare input data\n",
        "X_train_enc, X_test_enc = prepare_inputs(X_train, X_test)\n",
        "# prepare output data\n",
        "y_train_enc, y_test_enc = prepare_targets(y_train, y_test)\n",
        "# feature selection\n",
        "X_train_fs, X_test_fs, fs = select_features(X_train_enc, y_train_enc, X_test_enc)\n",
        "# what are scores for the features\n",
        "for i in range(len(fs.scores_)):\n",
        "  print('Feature %d: %f' % (i, fs.scores_[i]))\n"
      ],
      "metadata": {
        "id": "O48_LBxEI5Sr"
      },
      "execution_count": null,
      "outputs": []
    },
    {
      "cell_type": "markdown",
      "source": [
        "In this case, we can see the scores are small and it is hard to get an idea from the number\n",
        "alone as to which features are more relevant. Perhaps features 3, 4, 5, and 8 are most relevant."
      ],
      "metadata": {
        "id": "rW55ZONdiCRn"
      }
    },
    {
      "cell_type": "code",
      "source": [
        "# plot the scores\n",
        "pyplot.bar([i for i in range(len(fs.scores_))], fs.scores_)\n",
        "pyplot.show()"
      ],
      "metadata": {
        "id": "FrkX2G0-iLm8"
      },
      "execution_count": null,
      "outputs": []
    },
    {
      "cell_type": "markdown",
      "source": [
        "A bar chart of the feature importance scores for each input feature is created. This clearly\n",
        "shows that feature 3 might be the most relevant (according to chi-squared) and that perhaps\n",
        "four of the nine input features are the most relevant. We could set k = 4 when configuring the\n",
        "SelectKBest to select these top four features."
      ],
      "metadata": {
        "id": "6m3qSLbSiIX3"
      }
    },
    {
      "cell_type": "markdown",
      "source": [
        "###**Mutual Information Feature Selection**\n",
        "Mutual information from the field of information theory is the application of information gain\n",
        "(typically used in the construction of decision trees) to feature selection. Mutual information is\n",
        "calculated between two variables and measures the reduction in uncertainty for one variable\n",
        "given a known value of the other variable."
      ],
      "metadata": {
        "id": "bOu5e6CaLNP9"
      }
    },
    {
      "cell_type": "code",
      "source": [
        "# example of mutual information feature selection for categorical data\n",
        "from pandas import read_csv\n",
        "from sklearn.model_selection import train_test_split\n",
        "from sklearn.preprocessing import LabelEncoder\n",
        "from sklearn.preprocessing import OrdinalEncoder\n",
        "from sklearn.feature_selection import SelectKBest\n",
        "from sklearn.feature_selection import mutual_info_classif\n",
        "from matplotlib import pyplot\n",
        "# load the dataset\n",
        "def load_dataset(filename):\n",
        "  # load the dataset as a pandas DataFrame\n",
        "  data = read_csv(filename, header=None)\n",
        "  # retrieve numpy array\n",
        "  dataset = data.values\n",
        "  # split into input (X) and output (y) variables\n",
        "  X = dataset[:, :-1]\n",
        "  y = dataset[:,-1]\n",
        "  # format all fields as string\n",
        "  X = X.astype(str)\n",
        "  return X, y\n",
        "\n",
        "# prepare input data\n",
        "def prepare_inputs(X_train, X_test):\n",
        "  oe = OrdinalEncoder()\n",
        "  oe.fit(X_train)\n",
        "  X_train_enc = oe.transform(X_train)\n",
        "  X_test_enc = oe.transform(X_test)\n",
        "  return X_train_enc, X_test_enc\n",
        "\n",
        "# prepare target\n",
        "def prepare_targets(y_train, y_test):\n",
        "  le = LabelEncoder()\n",
        "  le.fit(y_train)\n",
        "  y_train_enc = le.transform(y_train)\n",
        "  y_test_enc = le.transform(y_test)\n",
        "  return y_train_enc, y_test_enc\n",
        "\n",
        "# feature selection\n",
        "def select_features(X_train, y_train, X_test):\n",
        "  fs = SelectKBest(score_func=mutual_info_classif, k='all')\n",
        "  fs.fit(X_train, y_train)\n",
        "  X_train_fs = fs.transform(X_train)\n",
        "  X_test_fs = fs.transform(X_test)\n",
        "  return X_train_fs, X_test_fs, fs\n",
        "# load the dataset\n",
        "X, y = load_dataset('breast-cancer.csv')\n",
        "# split into train and test sets\n",
        "X_train, X_test, y_train, y_test = train_test_split(X, y, test_size=0.33, random_state=1)\n",
        "# prepare input data\n",
        "X_train_enc, X_test_enc = prepare_inputs(X_train, X_test)\n",
        "# prepare output data\n",
        "y_train_enc, y_test_enc = prepare_targets(y_train, y_test)\n",
        "# feature selection\n",
        "X_train_fs, X_test_fs, fs = select_features(X_train_enc, y_train_enc, X_test_enc)\n",
        "# what are scores for the features\n",
        "for i in range(len(fs.scores_)):\n",
        "  print('Feature %d: %f' % (i, fs.scores_[i]))\n"
      ],
      "metadata": {
        "id": "TjojSwCSLU26"
      },
      "execution_count": null,
      "outputs": []
    },
    {
      "cell_type": "markdown",
      "source": [
        "In this case, we can see that some of the features have a very low score such as 0, 3, 6, 8, suggesting that\n",
        "perhaps they can be removed."
      ],
      "metadata": {
        "id": "zfnQgAG8ikdl"
      }
    },
    {
      "cell_type": "code",
      "source": [
        "# plot the scores\n",
        "pyplot.bar([i for i in range(len(fs.scores_))], fs.scores_)\n",
        "pyplot.show()"
      ],
      "metadata": {
        "id": "Nsv2jQ7lim1f"
      },
      "execution_count": null,
      "outputs": []
    },
    {
      "cell_type": "markdown",
      "source": [
        "A bar chart of the feature importance scores for each input feature is created. Importantly,\n",
        "a different mixture of features is promoted."
      ],
      "metadata": {
        "id": "NGOGbtASirpi"
      }
    },
    {
      "cell_type": "markdown",
      "source": [
        "##Modeling With Selected Features\n",
        "A robust approach is to evaluate models using different\n",
        "feature selection methods (and numbers of features) and select the method that results in a\n",
        "model with the best performance. We will evaluate a Logistic Regression model\n",
        "with all features compared to a model built from features selected by chi-squared and those\n",
        "features selected via mutual information. Logistic regression is a good model for testing feature\n",
        "selection methods as it can perform better if irrelevant features are removed from the model.\n",
        "\n"
      ],
      "metadata": {
        "id": "R7rQBmHwLxBf"
      }
    },
    {
      "cell_type": "markdown",
      "source": [
        "###**Model Built Using All Features**"
      ],
      "metadata": {
        "id": "AzgzGczPO1-0"
      }
    },
    {
      "cell_type": "code",
      "source": [
        "# evaluation of a model using all input features\n",
        "from pandas import read_csv\n",
        "from sklearn.preprocessing import LabelEncoder\n",
        "from sklearn.preprocessing import OrdinalEncoder\n",
        "from sklearn.model_selection import train_test_split\n",
        "from sklearn.linear_model import LogisticRegression\n",
        "from sklearn.metrics import accuracy_score\n",
        "# load the dataset\n",
        "def load_dataset(filename):\n",
        "  # load the dataset as a pandas DataFrame\n",
        "  data = read_csv(filename, header=None)\n",
        "  # retrieve numpy array\n",
        "  dataset = data.values\n",
        "  # split into input (X) and output (y) variables\n",
        "  X = dataset[:, :-1]\n",
        "  y = dataset[:,-1]\n",
        "  # format all fields as string\n",
        "  X = X.astype(str)\n",
        "  return X, y\n",
        "\n",
        "# prepare input data\n",
        "def prepare_inputs(X_train, X_test):\n",
        "  oe = OrdinalEncoder()\n",
        "  oe.fit(X_train)\n",
        "  X_train_enc = oe.transform(X_train)\n",
        "  X_test_enc = oe.transform(X_test)\n",
        "  return X_train_enc, X_test_enc\n",
        "\n",
        "# prepare target\n",
        "def prepare_targets(y_train, y_test):\n",
        "  le = LabelEncoder()\n",
        "  le.fit(y_train)\n",
        "  y_train_enc = le.transform(y_train)\n",
        "  y_test_enc = le.transform(y_test)\n",
        "  return y_train_enc, y_test_enc\n",
        "\n",
        "# load the dataset\n",
        "X, y = load_dataset('breast-cancer.csv')\n",
        "# split into train and test sets\n",
        "X_train, X_test, y_train, y_test = train_test_split(X, y, test_size=0.33, random_state=1)\n",
        "# prepare input data\n",
        "X_train_enc, X_test_enc = prepare_inputs(X_train, X_test)\n",
        "# prepare output data\n",
        "y_train_enc, y_test_enc = prepare_targets(y_train, y_test)\n",
        "# fit the model\n",
        "model = LogisticRegression(solver='lbfgs')\n",
        "model.fit(X_train_enc, y_train_enc)\n",
        "# evaluate the model\n",
        "yhat = model.predict(X_test_enc)\n",
        "# evaluate predictions\n",
        "accuracy = accuracy_score(y_test_enc, yhat)\n",
        "print('Accuracy: %.2f' % (accuracy*100))"
      ],
      "metadata": {
        "id": "zE3SOcbkMfdg"
      },
      "execution_count": null,
      "outputs": []
    },
    {
      "cell_type": "markdown",
      "source": [
        "In this case, we can see that the model achieves a classification accuracy of about 75 percent.\n",
        "We would prefer to use a subset of features that achieves a classification accuracy that is as\n",
        "good or better than this."
      ],
      "metadata": {
        "id": "7CSuPw1PkGKw"
      }
    },
    {
      "cell_type": "markdown",
      "source": [
        "###**Model Built Using Chi-Squared Features**"
      ],
      "metadata": {
        "id": "Ql_6AzX4M0r1"
      }
    },
    {
      "cell_type": "code",
      "source": [
        "# evaluation of a model fit using chi squared input features\n",
        "from pandas import read_csv\n",
        "from sklearn.preprocessing import LabelEncoder\n",
        "from sklearn.preprocessing import OrdinalEncoder\n",
        "from sklearn.feature_selection import SelectKBest\n",
        "from sklearn.feature_selection import chi2\n",
        "from sklearn.model_selection import train_test_split\n",
        "from sklearn.linear_model import LogisticRegression\n",
        "from sklearn.metrics import accuracy_score\n",
        "# load the dataset\n",
        "def load_dataset(filename):\n",
        "  # load the dataset as a pandas DataFrame\n",
        "  data = read_csv(filename, header=None)\n",
        "  # retrieve numpy array\n",
        "  dataset = data.values\n",
        "  # split into input (X) and output (y) variables\n",
        "  X = dataset[:, :-1]\n",
        "  y = dataset[:,-1]\n",
        "  # format all fields as string\n",
        "  X = X.astype(str)\n",
        "  return X, y\n",
        "\n",
        "# prepare input data\n",
        "def prepare_inputs(X_train, X_test):\n",
        "  oe = OrdinalEncoder()\n",
        "  oe.fit(X_train)\n",
        "  X_train_enc = oe.transform(X_train)\n",
        "  X_test_enc = oe.transform(X_test)\n",
        "  return X_train_enc, X_test_enc\n",
        "\n",
        "# prepare target\n",
        "def prepare_targets(y_train, y_test):\n",
        "  le = LabelEncoder()\n",
        "  le.fit(y_train)\n",
        "  y_train_enc = le.transform(y_train)\n",
        "  y_test_enc = le.transform(y_test)\n",
        "  return y_train_enc, y_test_enc\n",
        "\n",
        "# feature selection\n",
        "def select_features(X_train, y_train, X_test):\n",
        "  fs = SelectKBest(score_func=chi2, k=4)\n",
        "  fs.fit(X_train, y_train)\n",
        "  X_train_fs = fs.transform(X_train)\n",
        "  X_test_fs = fs.transform(X_test)\n",
        "  return X_train_fs, X_test_fs\n",
        "\n",
        "# load the dataset\n",
        "X, y = load_dataset('breast-cancer.csv')\n",
        "# split into train and test sets\n",
        "X_train, X_test, y_train, y_test = train_test_split(X, y, test_size=0.33, random_state=1)\n",
        "# prepare input data\n",
        "X_train_enc, X_test_enc = prepare_inputs(X_train, X_test)\n",
        "# prepare output data\n",
        "y_train_enc, y_test_enc = prepare_targets(y_train, y_test)\n",
        "# feature selection\n",
        "X_train_fs, X_test_fs = select_features(X_train_enc, y_train_enc, X_test_enc)\n",
        "# fit the model\n",
        "model = LogisticRegression(solver='lbfgs')\n",
        "model.fit(X_train_fs, y_train_enc)\n",
        "# evaluate the model\n",
        "yhat = model.predict(X_test_fs)\n",
        "# evaluate predictions\n",
        "accuracy = accuracy_score(y_test_enc, yhat)\n",
        "print('Accuracy: %.2f' % (accuracy*100))"
      ],
      "metadata": {
        "id": "doUiuEeiM3DV"
      },
      "execution_count": null,
      "outputs": []
    },
    {
      "cell_type": "markdown",
      "source": [
        "In this case, we see that the model achieved an accuracy of about 74 percent, a slight drop in\n",
        "performance. It is possible that some of the features removed are, in fact, adding value directly\n",
        "or in concert with the selected features. At this stage, we would probably prefer to use all of\n",
        "the input features."
      ],
      "metadata": {
        "id": "iaezyqI1RLxl"
      }
    },
    {
      "cell_type": "markdown",
      "source": [
        "###**Model Built Using Mutual Information Features**"
      ],
      "metadata": {
        "id": "7XPQY-bYNa-p"
      }
    },
    {
      "cell_type": "code",
      "source": [
        "# evaluation of a model fit using mutual information input features\n",
        "from pandas import read_csv\n",
        "from sklearn.preprocessing import LabelEncoder\n",
        "from sklearn.preprocessing import OrdinalEncoder\n",
        "from sklearn.feature_selection import SelectKBest\n",
        "from sklearn.feature_selection import mutual_info_classif\n",
        "from sklearn.model_selection import train_test_split\n",
        "from sklearn.linear_model import LogisticRegression\n",
        "from sklearn.metrics import accuracy_score\n",
        "# load the dataset\n",
        "def load_dataset(filename):\n",
        "  # load the dataset as a pandas DataFrame\n",
        "  data = read_csv(filename, header=None)\n",
        "  # retrieve numpy array\n",
        "  dataset = data.values\n",
        "  # split into input (X) and output (y) variables\n",
        "  X = dataset[:, :-1]\n",
        "  y = dataset[:,-1]\n",
        "  # format all fields as string\n",
        "  X = X.astype(str)\n",
        "  return X, y\n",
        "\n",
        "# prepare input data\n",
        "def prepare_inputs(X_train, X_test):\n",
        "  oe = OrdinalEncoder()\n",
        "  oe.fit(X_train)\n",
        "  X_train_enc = oe.transform(X_train)\n",
        "  X_test_enc = oe.transform(X_test)\n",
        "  return X_train_enc, X_test_enc\n",
        "\n",
        "# prepare target\n",
        "def prepare_targets(y_train, y_test):\n",
        "  le = LabelEncoder()\n",
        "  le.fit(y_train)\n",
        "  y_train_enc = le.transform(y_train)\n",
        "  y_test_enc = le.transform(y_test)\n",
        "  return y_train_enc, y_test_enc\n",
        "\n",
        "# feature selection\n",
        "def select_features(X_train, y_train, X_test):\n",
        "  fs = SelectKBest(score_func=mutual_info_classif, k=4)\n",
        "  fs.fit(X_train, y_train)\n",
        "  X_train_fs = fs.transform(X_train)\n",
        "  X_test_fs = fs.transform(X_test)\n",
        "  return X_train_fs, X_test_fs\n",
        "\n",
        "# load the dataset\n",
        "X, y = load_dataset('breast-cancer.csv')\n",
        "# split into train and test sets\n",
        "X_train, X_test, y_train, y_test = train_test_split(X, y, test_size=0.33, random_state=1)\n",
        "# prepare input data\n",
        "X_train_enc, X_test_enc = prepare_inputs(X_train, X_test)\n",
        "# prepare output data\n",
        "y_train_enc, y_test_enc = prepare_targets(y_train, y_test)\n",
        "# feature selection\n",
        "X_train_fs, X_test_fs = select_features(X_train_enc, y_train_enc, X_test_enc)\n",
        "# fit the model\n",
        "model = LogisticRegression(solver='lbfgs')\n",
        "model.fit(X_train_fs, y_train_enc)\n",
        "# evaluate the model\n",
        "yhat = model.predict(X_test_fs)\n",
        "# evaluate predictions\n",
        "accuracy = accuracy_score(y_test_enc, yhat)\n",
        "print('Accuracy: %.2f' % (accuracy*100))"
      ],
      "metadata": {
        "id": "23GqX2JONk_3"
      },
      "execution_count": null,
      "outputs": []
    },
    {
      "cell_type": "markdown",
      "source": [
        "In this case, we can see a small lift in classification accuracy to 77 percent. To be sure that\n",
        "the effect is real, it would be a good idea to repeat each experiment multiple times and compare\n",
        "the mean performance. It may also be a good idea to explore using k-fold cross-validation\n",
        "instead of a simple train/test split."
      ],
      "metadata": {
        "id": "3lkqSqXwkOu8"
      }
    }
  ]
}